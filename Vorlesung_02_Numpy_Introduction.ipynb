{
 "cells": [
  {
   "cell_type": "markdown",
   "metadata": {
    "slideshow": {
     "slide_type": "-"
    }
   },
   "source": [
    "# Kommentare zur Bedienung dieses Notebooks\n",
    "\n",
    "- Alle Zellen mit Python-Code sind ausführbar. Dazu muss in der Zelle `Strg + Enter` gedrückt werden und die Ausgabe wird unter der Zelle angezeigt.\n",
    "- Die Zellen können beliebig verändert werden. Die Änderungen werden nicht gespeichert, daher startet man jedes Mal mit dem ursprünglichen Notebook\n",
    "- Dieses Notebook ist dazu gedacht, parallel zur Vorlesung die behandelten Themen und Python-Codes testen zu können.\n"
   ]
  },
  {
   "cell_type": "markdown",
   "metadata": {},
   "source": [
    "# Vorlesung: Numpy"
   ]
  },
  {
   "cell_type": "markdown",
   "metadata": {},
   "source": [
    "# Wiederholung: Listen"
   ]
  },
  {
   "cell_type": "markdown",
   "metadata": {},
   "source": [
    "Listen sind Kontainer mit mehreren Elementen. Zur Erzeugung von Listen können die Elemente einfach in `[..]` angegeben werden:"
   ]
  },
  {
   "cell_type": "code",
   "execution_count": null,
   "metadata": {},
   "outputs": [],
   "source": [
    "l = [1, 2, 3, 4] \n",
    "print(type(l))"
   ]
  },
  {
   "cell_type": "markdown",
   "metadata": {},
   "source": [
    "Einzelne Elemente können mit `[?]` ausgerufen werden:"
   ]
  },
  {
   "cell_type": "code",
   "execution_count": null,
   "metadata": {},
   "outputs": [],
   "source": [
    "print(l[0], l[2])   # print the first and third element of the list 'l'.\n",
    "                    # Indices of list elements start with 0 and end with 'n-1\n",
    "                    # (for a container with 'n' elements) as in C)"
   ]
  },
  {
   "cell_type": "markdown",
   "metadata": {},
   "source": [
    "Die Länge einer Liste kann man mit `len(l)` abfragen:"
   ]
  },
  {
   "cell_type": "code",
   "execution_count": null,
   "metadata": {},
   "outputs": [],
   "source": [
    "print(len(l))    "
   ]
  },
  {
   "cell_type": "markdown",
   "metadata": {},
   "source": [
    "Einzelne Elemente der Liste können geändert werden:"
   ]
  },
  {
   "cell_type": "code",
   "execution_count": null,
   "metadata": {},
   "outputs": [],
   "source": [
    "l = [1, 2, 3, 4, 5]\n",
    "print(l)\n",
    "l[1] = 5  # lists can be modified after\n",
    "          # they have been created! \n",
    "print(l)"
   ]
  },
  {
   "cell_type": "markdown",
   "metadata": {},
   "source": [
    "Um auf alle Listenelemente zugreifen zu können, können sie einfach in Schleifen angesprochen werden:"
   ]
  },
  {
   "cell_type": "code",
   "execution_count": null,
   "metadata": {},
   "outputs": [],
   "source": [
    "l = list(range(1, 11))\n",
    "print(l)"
   ]
  },
  {
   "cell_type": "code",
   "execution_count": null,
   "metadata": {},
   "outputs": [],
   "source": [
    "# replace all elements in 'l' with the double value\n",
    "i = 0\n",
    "# Note that the index runs from 0 to len(l)-1!\n",
    "while i < len(l):\n",
    "    l[i] = l[i] * 2\n",
    "    i = i + 1\n",
    "    \n",
    "print(l)   "
   ]
  },
  {
   "cell_type": "code",
   "execution_count": null,
   "metadata": {},
   "outputs": [],
   "source": [
    "for i in l:\n",
    "    print(i)"
   ]
  },
  {
   "cell_type": "markdown",
   "metadata": {},
   "source": [
    "<div class=\"alert alert-warning\">\n",
    "__Hinweis:__\n",
    "Die Zählung der Elemente beginnt immer bei 0 und geht bis `len(l)-1`!\n",
    "</div>"
   ]
  },
  {
   "cell_type": "markdown",
   "metadata": {},
   "source": [
    "## Bemerkung: Importieren von Bibliotheken\n",
    "\n",
    "Sie haben schon häufiger den Befehle `import` gesehen, mit dem sie Bibliotheken laden können, so dass die Funktionen der Bibliothek ihnen zum Programmieren zur Verfügung stehen. \n",
    "\n",
    "Standardmäßig wird so eine Bibliothek über \n",
    "\n",
    "    import numpy\n",
    "    \n",
    "geladen. Die einzelnen Funktionen der Bibliothek können dann - hier ein Beispiel für die Berechnung des Sinus - über\n",
    "\n",
    "    numpy.sin()\n",
    "    \n",
    "angesprochen werden. Um sich Tipparbeit zu sparen wird auch oft der folgende Befehl zum Laden von Bibliotheken verwendet:\n",
    "\n",
    "    import numpy as np\n",
    "    \n",
    "Damit können die Funktionen der Bibliothek über die Abkürzung\n",
    "\n",
    "    np.sin()\n",
    "    \n",
    "aufgerufen werden.\n",
    "\n",
    "Beide Möglichkeiten sind dabei äquivalent und können je nach Preferenz verwendet werden."
   ]
  },
  {
   "cell_type": "markdown",
   "metadata": {},
   "source": [
    "#  Einführung in `numpy` -- Kontainer\n",
    "\n",
    "Für mehrdimensionale numerische Rechnungen und zur Darstellung von Daten stehen in Python Kontainer der Bibliothek `numpy` zur Verfügung.\n",
    "\n",
    "Diese Arrays sind homogen, d.h. alle Elemente müssen - im Gegensatz zu den Standard-Listen in Python - vom selben Typ sein. Eine Liste der möglichen Typen findet sich [hier](http://docs.scipy.org/doc/numpy/user/basics.types.html).\n",
    "`numpy`-Arrays bestehen aus dem eigentlichen Array, sowie - optional - aus Informationen über den Typ der Elemente. \n",
    "\n",
    "Ein großer Vorteil von numpy ist die deutlich schnellere Bearbeitungszeit im Vergleich zu herkömmlichen Listen.  `numpy` kann dies deutlich verbessern, so dass auch größere Datenmengen mit Python verarbeitet werden können.\n"
   ]
  },
  {
   "cell_type": "markdown",
   "metadata": {},
   "source": [
    "Zum Anlegen eines `numpy`-Arrays muss zuerst über `import` die numpy Bibliothek geladen werden. Anschließend erfolgt die Initialisierung ähnlich zu den Python-Listen, allerdings muss die Liste von einem `numpy.array()` umschlossen werden:"
   ]
  },
  {
   "cell_type": "code",
   "execution_count": null,
   "metadata": {},
   "outputs": [],
   "source": [
    "import numpy as np\n",
    "\n",
    "# numpy-array creation from a list:\n",
    "a = np.array([1.0, 2.0, 3.0, 4.0]) "
   ]
  },
  {
   "cell_type": "markdown",
   "metadata": {},
   "source": [
    "Mit den folgenden Befehlen können wichtige Informationen des `numpy`-Arrays abgefragt werden:"
   ]
  },
  {
   "cell_type": "code",
   "execution_count": null,
   "metadata": {},
   "outputs": [],
   "source": [
    "print(type(a))      # the type is numpy-array"
   ]
  },
  {
   "cell_type": "code",
   "execution_count": null,
   "metadata": {},
   "outputs": [],
   "source": [
    "print(a.dtype)     # the data-type object."
   ]
  },
  {
   "cell_type": "code",
   "execution_count": null,
   "metadata": {},
   "outputs": [],
   "source": [
    "print(a.ndim)      # number of array dimensions"
   ]
  },
  {
   "cell_type": "code",
   "execution_count": null,
   "metadata": {},
   "outputs": [],
   "source": [
    "print(a.shape)     # shape of an array (interesting mainly for multi-dimensional arrays)"
   ]
  },
  {
   "cell_type": "markdown",
   "metadata": {},
   "source": [
    "## Datentypen in `numpy`-Arrays\n",
    "\n",
    "Insbesondere wenn man Daten einliest und anschließend in einem `numpy`-Array speichert und bearbeitet, ist es wichtig zu wissen welchen Datentyp man benötigt. Beim Anlegen eines `numpy`-Arrays mit\n",
    "\n",
    "    a = np.array([1.0, 2.0, 3.0, 4.0])\n",
    "    \n",
    "is der Typ der Elemente von `a` abhängig von dem verwendeten Rechner. Die Elemente werden z.B. vom Typ `np.float32` sein auf 32-bit Maschinen, wohingegen auf 64-bit Maschninen der Typ `np.float64` verwendet werden würde. Dies kann in Extremfällen zu unterschiedlichen Ergebnissen führen, je nachdem auf welchem Rechner das Programm ausgeführt wird. Daher ist es wichtig genau zu spezifizieren, welchen Typs die Elemente des Arrays sind.\n",
    "\n",
    "Dafür muss bei der Initialisierung des Arrays zusätzlich die Option `dtype` verwendet werden. Die Initialisierung kann dann z.B. so aussehen:\n",
    "\n",
    "   ```\n",
    "   # single precision (4-byte) float numbers\n",
    "   a_single = np.array([1.0, 2.0, 3.0, 4.0], dtype=np.float32)\n",
    "   \n",
    "   # double precision (8-byte) float numbers\n",
    "   a_double = np.array([1.0, 2.0, 3.0, 4.0], dtype=np.float64))\n",
    "   ```\n"
   ]
  },
  {
   "cell_type": "markdown",
   "metadata": {},
   "source": [
    "## Erzeugung von `numpy`-Arrays"
   ]
  },
  {
   "cell_type": "markdown",
   "metadata": {},
   "source": [
    "Ähnlich wie bei den Standard-Listen von Python gibt es auch bei den `numpy`-Arrays verschiedene Möglichkeiten neue Arras zu erzeugen.\n",
    "\n",
    "Die einfachste Möglichkeit ist, wie oben schon demonstriert, die direkte Übergabe der Werte zur Initialisierung des Arrays. Alternativ kann man auch den Start- und End-Wert zusammen mit der Schrittweite angeben. Hierbei muss das Array allerdings mit `numpy.arange()` initialisiert werden.\n",
    "\n",
    "Beide Möglichkeiten demonstriert das folgende Beispiel:"
   ]
  },
  {
   "cell_type": "code",
   "execution_count": null,
   "metadata": {},
   "outputs": [],
   "source": [
    "import numpy as np\n",
    "\n",
    "# there are many possibilities to create a numpy-array\n",
    "a = np.array([1,2,3,4])       # conversion of a numerical list to a numpy-array\n",
    "b = np.arange(0.0, 1.0, 0.1)  # array between two limits with a given distance\n",
    "                              # between array elements. The array if a half-open\n",
    "                              # interval!\n",
    "print(a)\n",
    "print(b)"
   ]
  },
  {
   "cell_type": "markdown",
   "metadata": {},
   "source": [
    "Eine weitere Möglichkeit ist über die Festlegung der Anzahl der Zwischenschritte. Hierbei muss das Array mit `numpy.linspace()` erzeugt werden, wie das unten stehende Beispiel zeigt."
   ]
  },
  {
   "cell_type": "code",
   "execution_count": null,
   "metadata": {},
   "outputs": [],
   "source": [
    "c = np.linspace(0.0, 1.0, 10) # array between two limits with a given number of\n",
    "                              # array elements. Both limits are contained in the\n",
    "                              # array\n",
    "print(c)"
   ]
  },
  {
   "cell_type": "markdown",
   "metadata": {},
   "source": [
    "Falls man ein Array möchte, in dem sich nur Nullen befinden, kann das mit der Funktion `numpy.zeros()` erzeugt werden:"
   ]
  },
  {
   "cell_type": "code",
   "execution_count": null,
   "metadata": {
    "scrolled": true
   },
   "outputs": [],
   "source": [
    "d = np.zeros(10)             # array of 10 elements with 0 \n",
    "print(d)"
   ]
  },
  {
   "cell_type": "markdown",
   "metadata": {},
   "source": [
    "## Erweitern von `numpy`-Arrays"
   ]
  },
  {
   "cell_type": "markdown",
   "metadata": {},
   "source": [
    "Wurde ein `numpy`-Array bereits angelegt und es soll um Elemente erweitert werden, kann die Funktion `append()` verwendet werden. Das neue Element wird hierbei immer am _Ende_ des Arrays eingefügt."
   ]
  },
  {
   "cell_type": "code",
   "execution_count": null,
   "metadata": {},
   "outputs": [],
   "source": [
    "import numpy as np\n",
    "\n",
    "a = np.arange(0, 11, 1)\n",
    "print(a)"
   ]
  },
  {
   "cell_type": "code",
   "execution_count": null,
   "metadata": {},
   "outputs": [],
   "source": [
    "a = np.append(a,11)\n",
    "print(a)"
   ]
  },
  {
   "cell_type": "markdown",
   "metadata": {},
   "source": [
    "Alternativ kann auch die Funktion `insert()` verwendet werden. Hiermit kann ein Element auch an anderen Stellen des Arrays eingefügt werden:"
   ]
  },
  {
   "cell_type": "code",
   "execution_count": null,
   "metadata": {},
   "outputs": [],
   "source": [
    "a = np.arange(0, 11, 1)\n",
    "print(a)\n",
    "a = np.insert(a,2,22)\n",
    "print(a)"
   ]
  },
  {
   "cell_type": "markdown",
   "metadata": {},
   "source": [
    "Bitte achten Sie hier auf die Nummerierung. Mit `0` fügt man Elemente vor dem ersten Element ein, mit `len(a)` am Ende des Arrays (analog zu `append`)."
   ]
  },
  {
   "cell_type": "code",
   "execution_count": null,
   "metadata": {},
   "outputs": [],
   "source": [
    "a = np.arange(0, 11, 1)\n",
    "print(a)\n",
    "a = np.insert(a,0,0.001)\n",
    "print(a)"
   ]
  },
  {
   "cell_type": "code",
   "execution_count": null,
   "metadata": {},
   "outputs": [],
   "source": [
    "a = np.insert(a,len(a),100)\n",
    "print(a)"
   ]
  },
  {
   "cell_type": "markdown",
   "metadata": {},
   "source": [
    "## Unterteilung von `numpy`-Arrays\n",
    "\n",
    "Die Unterteilung von `numpy`-Arrays in kleinere Teil-Arrays (auch \"Slicing\" genannt) funktioniert analog zu den Standard-Listen von Python. "
   ]
  },
  {
   "cell_type": "code",
   "execution_count": null,
   "metadata": {},
   "outputs": [],
   "source": [
    "import numpy as np\n",
    "\n",
    "a = np.arange(0, 11, 1)\n",
    "print(a)"
   ]
  },
  {
   "cell_type": "code",
   "execution_count": null,
   "metadata": {},
   "outputs": [],
   "source": [
    "print(a[5])    # access 6th element (zero-based arrays!)"
   ]
  },
  {
   "cell_type": "code",
   "execution_count": null,
   "metadata": {},
   "outputs": [],
   "source": [
    "print(a[2:6])  # access third up to the sixth element"
   ]
  },
  {
   "cell_type": "code",
   "execution_count": null,
   "metadata": {},
   "outputs": [],
   "source": [
    "print(a[1::2]) # access every other element starting from the second"
   ]
  },
  {
   "cell_type": "code",
   "execution_count": null,
   "metadata": {},
   "outputs": [],
   "source": [
    "print(a[:-1])# access all elements except the last"
   ]
  },
  {
   "cell_type": "code",
   "execution_count": null,
   "metadata": {},
   "outputs": [],
   "source": [
    "print(a[::-1])# access all elements in reverse order"
   ]
  },
  {
   "cell_type": "markdown",
   "metadata": {},
   "source": [
    "Die so erzeugten Teil-Arrays sind dabei aber vom gleichen Typ wie das ursprüngliche `numpy`-Array:"
   ]
  },
  {
   "cell_type": "code",
   "execution_count": null,
   "metadata": {},
   "outputs": [],
   "source": [
    "print(type(a[:-1]))"
   ]
  },
  {
   "cell_type": "markdown",
   "metadata": {},
   "source": [
    "Das Unterteilen von `numpy`-Arrays kann auch für andere Dinge verwendet werden. So kann es auch auf der _linken_ Seite einer Zuweisung verwendet werden. In dem untenstehenden Fall wird ein Teil des bestehenden `numpy`-Arrays mit dem Wert `0` überschrieben."
   ]
  },
  {
   "cell_type": "code",
   "execution_count": null,
   "metadata": {},
   "outputs": [],
   "source": [
    "print(a)\n",
    "a[2:5] = 0\n",
    "print(a)"
   ]
  },
  {
   "cell_type": "markdown",
   "metadata": {},
   "source": [
    "## Speichermanagement von `numpy`-Arrays\n",
    "\n",
    "Das Speichermanagement von `numpy`-Arrays ist sehr ähnlich zu dem von Standard-Listen in Python. Es gibt allerdings einen wichtigen Unterschied. `numpy` wurde darauf ausgelegt, dass es sehr große Datenmengen händeln kann. Daher sind hier Teil-Arrays, welche durch das Zerschneiden entstehen bei `numpy` keine neuen Kopien. Das führt dazu, dass wenn das neue Teil-Array geändert wird, sich auch das Ursprungs-Array ändert!\n",
    "\n",
    "Das wird im folgenden Beispiel demonstriert:"
   ]
  },
  {
   "cell_type": "code",
   "execution_count": null,
   "metadata": {},
   "outputs": [],
   "source": [
    "import numpy as np\n",
    "\n",
    "l = list(range(7))\n",
    "n = np.arange(0, 7, 1)\n",
    "print('Liste: ', l, ' numpy-Array:', n)\n",
    "\n",
    "# slices behave differently for lists and numpy-arrays:\n",
    "ls = l[1:4] # uses different memory than l!\n",
    "ns = n[1:4] # uses same memory as n!\n",
    "print('Teil-Liste: ', ls, ' Teil-numpy-Array:', ns)"
   ]
  },
  {
   "cell_type": "code",
   "execution_count": null,
   "metadata": {},
   "outputs": [],
   "source": [
    "print(\"\\nAendern des ersten Elements in der Teil-Liste und dem Teil-numpy-Array:\\n\")\n",
    "\n",
    "ls[0] = 5  # does not modify l\n",
    "ns[0] = 5  # modifies also n\n",
    "print('Liste: ', l, ' numpy-Array:', n)\n",
    "print('Teil-Liste: ', ls, ' Teil-numpy-Array:', ns)"
   ]
  },
  {
   "cell_type": "markdown",
   "metadata": {},
   "source": [
    "## Operationen an `numpy`-Array \n",
    "\n",
    "Ein großer Vorteil von `numpy`-Arrays ist, dass sie mit Standard-Rechenoperationen bearbeitet werden können. Diese Operationen werden dann __elementweise__ auf den Arrays ausgeführt. Der Rückgabewert ist dann wieder ein `numpy`-Array!\n"
   ]
  },
  {
   "cell_type": "code",
   "execution_count": null,
   "metadata": {},
   "outputs": [],
   "source": [
    "x = np.array([1, 2, 3])\n",
    "y = np.array([4, 5, 6])\n",
    "print('Array 1: ',x,' und Array 2: ',y)"
   ]
  },
  {
   "cell_type": "code",
   "execution_count": null,
   "metadata": {},
   "outputs": [],
   "source": [
    "print('Addition: ',x + y)   # element-wise addition"
   ]
  },
  {
   "cell_type": "code",
   "execution_count": null,
   "metadata": {},
   "outputs": [],
   "source": [
    "print('Multiplikation: ',x * y)   # element-wise multiplication"
   ]
  },
  {
   "cell_type": "code",
   "execution_count": null,
   "metadata": {},
   "outputs": [],
   "source": [
    "print('Gemischte Rechnung: ',x + 2 * y)  # more complex manipulation"
   ]
  },
  {
   "cell_type": "code",
   "execution_count": null,
   "metadata": {},
   "outputs": [],
   "source": [
    "print('Potenz: ',x**y)"
   ]
  },
  {
   "cell_type": "code",
   "execution_count": null,
   "metadata": {},
   "outputs": [],
   "source": [
    "print('Vergleich: ',y > 4)    # element-wise comparison resulting in\n",
    "                # a bool-array!"
   ]
  },
  {
   "cell_type": "markdown",
   "metadata": {},
   "source": [
    "Die Anwendungen dafür sind Berechnungen mit diesen Arrays mit hoher Performanz.\n",
    "\n",
    "Neben den einfachen Rechenarten stehen auch Funktionen wie z.B. `sin()` zur verfügung. Wird so eine Funktion aus der `numpy`-Bibliothek auf ein `numpy`-Array angewendet, so wird die Funktion für jedes Element einzeln ausgeführt."
   ]
  },
  {
   "cell_type": "code",
   "execution_count": null,
   "metadata": {},
   "outputs": [],
   "source": [
    "x = np.linspace(0.0, 2.0 * np.pi, 50)\n",
    "y = np.sin(x)\n",
    "print(y)"
   ]
  },
  {
   "cell_type": "markdown",
   "metadata": {},
   "source": [
    "An dieser Stelle zeigt sich gut der Vorteil von `numpy`. Dadurch, dass Rechenoperationen direkt auf das komplette Array angewendet werden und nicht über eine Schleife auf jedes einzelne Element, kann man deutlich höhere Geschwindigkeiten erreichen. \n",
    "\n",
    "Den Geschwindigkeitsgewinn kann man einfach testen. Das Kommando `%%timeit` kann hier im JupyterNotebook verwendet werden, um die Zeit für das Ausführen einer Zelle zu messen. In den folgenden zwei Beispielen werden dieselben Operationen durchgeführt:\n",
    "\n",
    "- Es wird ein Array `x` angelegt mit 100 Werten zwischen 0 und 2Pi.\n",
    "- Für jedes Element des Arrays `x` soll der Sinus berechnet und in einem neuen Array `y` gespeichert werden.\n",
    "\n",
    "Wenn Sie die beiden Zellen ausführen wird unter den Zellen die Zeit für die Ausführung angegeben."
   ]
  },
  {
   "cell_type": "code",
   "execution_count": null,
   "metadata": {},
   "outputs": [],
   "source": [
    "%%timeit\n",
    "# fast vector operations\n",
    "x = np.linspace(0.0, 2.0 * np.pi, 100)\n",
    "y = np.sin(x)"
   ]
  },
  {
   "cell_type": "code",
   "execution_count": null,
   "metadata": {},
   "outputs": [],
   "source": [
    "%%timeit\n",
    "# C-like element-wise array manipulation\n",
    "x = np.linspace(0.0, 2.0 * np.pi, 100)\n",
    "y = np.zeros(len(x))\n",
    "\n",
    "for i in range(len(x)):\n",
    "    y[i] = np.sin(x[i])"
   ]
  },
  {
   "cell_type": "markdown",
   "metadata": {},
   "source": [
    "Wie sie sehen können gewinnt man durch die Verwendung von `numpy`-Arrays in etwa einen Faktor von 10 in der Geschwindigkeit. Daher ist es gerade für große Datensätze empfehlenswert `numpy` für die Verarbeitung zu verwenden."
   ]
  },
  {
   "cell_type": "markdown",
   "metadata": {},
   "source": [
    "## Einfaches Darstellen von `numpy`-Arrays\n",
    "\n",
    "Zum Darstellen von Daten wird die `matplotlib` verwendet. Es wird noch ein gesondertes Tutorial dazu geben, aber hier gibt es schon mal ein paar einfache Möglichkeiten um Daten darzustellen.\n",
    "\n",
    "Im folgenden Beispiel werden zwei Arrays erstellt, eines enthält 100 Zahlen von 0 bis 2Pi als `x`, das andere die Sinus-Werte als`y` aus dem ersten Array. Diese beiden Arrays wollen wir jetzt darstellen. Dies kann einfach über \n",
    "    \n",
    "    plt.plot(x,y)\n",
    "    \n",
    "geschehen. Um dem Histogramm noch Achsenbeschriftungen und eine Überschrift zu geben, werde die Befehle\n",
    "\n",
    "    plt.xlabel(r\"$x$\")\n",
    "    plt.ylabel(r\"$y$\")\n",
    "    plt.title(r\"The $\\sin(x)$ function\")\n",
    "    \n",
    "verwendet."
   ]
  },
  {
   "cell_type": "code",
   "execution_count": null,
   "metadata": {},
   "outputs": [],
   "source": [
    "%matplotlib inline\n",
    "# The previous line is necessary that matplotlib plots\n",
    "# appear within the Jupyter documents. It is sufficent to\n",
    "# give it once within a document.\n",
    "import numpy as np\n",
    "import matplotlib.pyplot as plt\n",
    "\n",
    "plt.rcParams[\"figure.figsize\"] = (12, 9) # (w, h)\n",
    "\n",
    "# matplotlib plots numpy-array values!\n",
    "x = np.linspace(0.0, 2.0 * np.pi, 100)\n",
    "y = np.sin(x)\n",
    "\n",
    "# Note that you can use LaTeX in for labels, titles\n",
    "# etc.\n",
    "plt.xlabel(r\"$x$\")\n",
    "plt.ylabel(r\"$y$\")\n",
    "plt.title(r\"The $\\sin(x)$ function\")\n",
    "\n",
    "# a simple x-y plot\n",
    "plt.plot(x, y)\n"
   ]
  },
  {
   "cell_type": "markdown",
   "metadata": {},
   "source": [
    "Analog können auch mehrere Graphen in ein Diagramm eingezeichnet werden."
   ]
  },
  {
   "cell_type": "code",
   "execution_count": null,
   "metadata": {},
   "outputs": [],
   "source": [
    "%matplotlib inline\n",
    "\n",
    "plt.rcParams[\"figure.figsize\"] = (12, 9) # (w, h)\n",
    "\n",
    "# Note that you can use LaTeX in for labels, titles\n",
    "# etc.\n",
    "plt.xlabel(r\"$x$\")\n",
    "plt.ylabel(r\"$y$\")\n",
    "plt.title(r\"The $\\sin(x)$ and $\\cos(x)$ functions\")\n",
    "\n",
    "x = np.linspace(0.0, 2.0 * np.pi, 100)\n",
    "sinx = np.sin(x)\n",
    "cosx = np.cos(x)\n",
    "\n",
    "# a simple x-y plot\n",
    "plt.plot(x, sinx, \"*-\")\n",
    "plt.plot(x, cosx, \"ro\")\n",
    "plt.show()"
   ]
  },
  {
   "cell_type": "markdown",
   "metadata": {},
   "source": [
    "# Zweidimensionale `numpy`-Arrays"
   ]
  },
  {
   "cell_type": "markdown",
   "metadata": {},
   "source": [
    "Wie auch bei Listen können `numpy`-Arrays mehrere Dimensionen enthalten. Das kann nützlich sein, wenn zum Beispiel zusammenhängende Daten abgespeichert werden sollen.\n",
    "\n",
    "Die Dimension eines solchen Arrays kann mit der Funktion `shape` abgefragt werden:"
   ]
  },
  {
   "cell_type": "code",
   "execution_count": null,
   "metadata": {},
   "outputs": [],
   "source": [
    "import numpy as np\n",
    "x = np.array([ [67, 63, 87],\n",
    "               [77, 69, 59],\n",
    "               [85, 87, 99],\n",
    "               [79, 72, 71],\n",
    "               [63, 89, 93],\n",
    "               [68, 92, 78]])\n",
    "print(np.shape(x))"
   ]
  },
  {
   "cell_type": "code",
   "execution_count": null,
   "metadata": {},
   "outputs": [],
   "source": [
    "A = np.array([\n",
    "[11, 12, 13, 14, 15],\n",
    "[21, 22, 23, 24, 25],\n",
    "[31, 32, 33, 34, 35],\n",
    "[41, 42, 43, 44, 45],\n",
    "[51, 52, 53, 54, 55]])\n",
    "print(A)"
   ]
  },
  {
   "cell_type": "code",
   "execution_count": null,
   "metadata": {},
   "outputs": [],
   "source": [
    "print(A[2,3])"
   ]
  },
  {
   "cell_type": "markdown",
   "metadata": {},
   "source": [
    "Analog zu eindimensionalen Arrays können auch mehrdimensionalen Arrays in kleinere Arrays zerteilt werden. Die Operation wird auch mittels `[?:?]`, wie es schon bei eindimensionalen Arrays der Fall war. Hier muss allerdings diese Syntax für jede Dimension angewendet werden."
   ]
  },
  {
   "cell_type": "code",
   "execution_count": null,
   "metadata": {},
   "outputs": [],
   "source": [
    "print(A[:3, 2:])"
   ]
  },
  {
   "cell_type": "code",
   "execution_count": null,
   "metadata": {},
   "outputs": [],
   "source": [
    "print(A[3:, :])"
   ]
  },
  {
   "cell_type": "code",
   "execution_count": null,
   "metadata": {},
   "outputs": [],
   "source": [
    "print(A[:, 4:])"
   ]
  },
  {
   "cell_type": "markdown",
   "metadata": {},
   "source": [
    "Auch zum Darstellen von Matrizen gibt es Funktionen. Der einfachste Weg eine Matrix darzustellen ist die Funktion `matshow()`. Hier wird jedes Matrixelement durch eine entsprechende Farbe dargestellt. Für unsere 4x4-Matrix sieht das dann folgendermaßen aus:"
   ]
  },
  {
   "cell_type": "code",
   "execution_count": null,
   "metadata": {
    "scrolled": true
   },
   "outputs": [],
   "source": [
    "plt.rcParams[\"figure.figsize\"] = (12, 9) # (w, h)\n",
    "\n",
    "plt.matshow(A)\n",
    "plt.colorbar()\n",
    "plt.show()"
   ]
  },
  {
   "cell_type": "markdown",
   "metadata": {},
   "source": [
    "## Weitere Beispiele"
   ]
  },
  {
   "cell_type": "code",
   "execution_count": null,
   "metadata": {},
   "outputs": [],
   "source": [
    "import numpy as np\n",
    "import matplotlib.pyplot as plt\n",
    "plt.rcParams[\"figure.figsize\"] = (12, 9) # (w, h)\n",
    "\n",
    "a = np.zeros(shape=(100,100))\n",
    "\n",
    "x = np.linspace(0.0, 2* np.pi, 100)\n",
    "y = np.linspace(0.0, 2* np.pi, 100)\n",
    "\n",
    "x_pos = 0\n",
    "for i in x:\n",
    "    y_pos=0\n",
    "    for j in y:\n",
    "        a[x_pos, y_pos] = np.cos(i)*np.sin(j)\n",
    "        y_pos += 1\n",
    "    x_pos += 1\n",
    "      \n",
    "plt.matshow(a)\n",
    "plt.colorbar()\n",
    "\n",
    "plt.show()"
   ]
  },
  {
   "cell_type": "code",
   "execution_count": null,
   "metadata": {},
   "outputs": [],
   "source": [
    "plt.plot(a[40])\n",
    "plt.plot(a[20])\n",
    "plt.plot(a[65])\n",
    "plt.plot(a[:,35])\n",
    "plt.show()"
   ]
  },
  {
   "cell_type": "code",
   "execution_count": null,
   "metadata": {},
   "outputs": [],
   "source": [
    "plt.plot(a[:,55:70:2])\n",
    "plt.show()"
   ]
  },
  {
   "cell_type": "code",
   "execution_count": null,
   "metadata": {},
   "outputs": [],
   "source": [
    "plt.matshow(a[20:50,35:60])\n",
    "plt.show()"
   ]
  },
  {
   "cell_type": "code",
   "execution_count": null,
   "metadata": {},
   "outputs": [],
   "source": []
  },
  {
   "cell_type": "markdown",
   "metadata": {},
   "source": [
    "# Fazit"
   ]
  },
  {
   "cell_type": "markdown",
   "metadata": {},
   "source": [
    "Ein Beispiel für die Anwendung von `numpy`-Arrays ist die einfache Berechnung von Ableitungen. Im untenstehenden Beispiel soll die Ableitung von `sin(x)` berechnet werden.\n",
    "\n",
    "Dafür werden zunächst die üblichen Module geladen:"
   ]
  },
  {
   "cell_type": "code",
   "execution_count": null,
   "metadata": {},
   "outputs": [],
   "source": [
    "# Skript zur Berechnung der Ableitung von sin(x)\n",
    "\n",
    "import numpy as np\n",
    "import matplotlib.pyplot as plt\n",
    "\n",
    "plt.rcParams[\"figure.figsize\"] = (12, 9) # (w, h)"
   ]
  },
  {
   "cell_type": "markdown",
   "metadata": {},
   "source": [
    "Anschließend werden zwei Listen definiert, eine geht von $0$ bis $2\\pi$ mit einer bestimmten Anzahl von Schritten, die andere enthält den entsprechenden Sinus der Werte."
   ]
  },
  {
   "cell_type": "code",
   "execution_count": null,
   "metadata": {},
   "outputs": [],
   "source": [
    "x = np.linspace(0.0, 2.0 * np.pi, 10)\n",
    "y = np.sin(x)\n",
    "\n",
    "plt.plot(x, y, 'b-*')"
   ]
  },
  {
   "cell_type": "markdown",
   "metadata": {},
   "source": [
    "Im oberen Plot sind die Punkte der Arrays mit einem blauen Sternchen `*` markiert. Diese Punkte stellen die Grenzen von Intervallen dar, die wir ab jetzt betrachten werden. Die Intervalle in `x` bzw. `y` sind gegeben durch:"
   ]
  },
  {
   "cell_type": "code",
   "execution_count": null,
   "metadata": {},
   "outputs": [],
   "source": [
    "# Wir nähern die Ableitung durch Delta y / Delta x\n",
    "# in jedem Mittelpunkt der Intervalle [x_i; x_{i+1})\n",
    "\n",
    "# Beachte dass delta_x, delta_y und mittel_x jeweils einen\n",
    "# Punkt weniger enthalten als x und y!\n",
    "delta_y = y[1:] - y[:-1]\n",
    "delta_x = x[1:] - x[:-1]"
   ]
  },
  {
   "cell_type": "markdown",
   "metadata": {},
   "source": [
    "Um die Ableitung zu berechnen wird in jedem Intervall der Mittelpunkt bestimmt. Um die Ableitung anzunähern, wird die Steigung der Geraden in diesem Punkt bestimmt. Dies kann einfach durch die Berechnung der Steigung von \n",
    "$$Steigung = \\frac{\\Delta y}{\\Delta x}$$ geschehen:"
   ]
  },
  {
   "cell_type": "code",
   "execution_count": null,
   "metadata": {},
   "outputs": [],
   "source": [
    "mittel_x = (x[1:] + x[:-1]) / 2.\n",
    "ableitung = delta_y / delta_x"
   ]
  },
  {
   "cell_type": "markdown",
   "metadata": {},
   "source": [
    "Ein abschließendes Diagramm zeigt die Mittelpunkte (rote Punkte) im Vergleich zur richtigen Ableitung, dem Cosinus (grüne Linien)."
   ]
  },
  {
   "cell_type": "code",
   "execution_count": null,
   "metadata": {},
   "outputs": [],
   "source": [
    "plt.plot(x, y, 'b-*')\n",
    "plt.plot(x, np.cos(x), 'g-')\n",
    "plt.plot(mittel_x, ableitung, 'ro')\n",
    "plt.show()"
   ]
  },
  {
   "cell_type": "markdown",
   "metadata": {},
   "source": [
    "Sie können in der obersten Zelle auch die Anzahl der Punkte erhöhen, damit Sie sehen, dass sich wirklich eine Cosinus-Funktion ergibt."
   ]
  },
  {
   "cell_type": "markdown",
   "metadata": {},
   "source": [
    "# Nächste Woche: \n",
    "- Numpy Teil 2 \n",
    "- Plotten\n",
    "- Funktionen"
   ]
  },
  {
   "cell_type": "code",
   "execution_count": null,
   "metadata": {},
   "outputs": [],
   "source": []
  }
 ],
 "metadata": {
  "kernelspec": {
   "display_name": "Python 3",
   "language": "python",
   "name": "python3"
  },
  "language_info": {
   "codemirror_mode": {
    "name": "ipython",
    "version": 3
   },
   "file_extension": ".py",
   "mimetype": "text/x-python",
   "name": "python",
   "nbconvert_exporter": "python",
   "pygments_lexer": "ipython3",
   "version": "3.6.9"
  },
  "latex_envs": {
   "LaTeX_envs_menu_present": true,
   "autoclose": false,
   "autocomplete": true,
   "bibliofile": "biblio.bib",
   "cite_by": "apalike",
   "current_citInitial": 1,
   "eqLabelWithNumbers": true,
   "eqNumInitial": 1,
   "hotkeys": {
    "equation": "Ctrl-E",
    "itemize": "Ctrl-I"
   },
   "labels_anchors": false,
   "latex_user_defs": false,
   "report_style_numbering": false,
   "user_envs_cfg": false
  },
  "toc": {
   "base_numbering": 1,
   "nav_menu": {},
   "number_sections": true,
   "sideBar": true,
   "skip_h1_title": false,
   "title_cell": "Table of Contents",
   "title_sidebar": "Contents",
   "toc_cell": false,
   "toc_position": {},
   "toc_section_display": true,
   "toc_window_display": false
  }
 },
 "nbformat": 4,
 "nbformat_minor": 1
}
