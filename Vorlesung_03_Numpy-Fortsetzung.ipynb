{
 "cells": [
  {
   "cell_type": "markdown",
   "metadata": {},
   "source": [
    "## Fancy Indexing und Maskierung\n",
    "\n",
    "Fancy Indexing (zu deutsch etwa \"ausgefallene Indizierung\") und Maskierung sind zwei weitere geschickte Methoden bestimmte Elemente aus einem `numpy`-Array zu extrahieren."
   ]
  },
  {
   "cell_type": "markdown",
   "metadata": {},
   "source": [
    "### Fancy Indexing\n",
    "\n",
    "Fancy Indexing kann verwendet werden um bestimmte Elemente aus einem Array zu extrahieren. Dazu muss ein weiterer `numpy`-Array angelegt werden, welcher die __Indices der zu extrahierenden Elemente__ enthält. Hier muss wieder beachtet werden, dass die Nummerierung der Indices eines Arrays bei __0__ beginnt!\n",
    "\n",
    "Im folgenden Beispiel wird ein Array `x` mit den Zahlen 1 bis 10 angelegt. Aus diesem sollen nur bestimmte Zahlen extrahiert werden. Dazu wird der Array `ind` definiert, der die Indices dieser Elemente enthält. Die Teil-Liste wird dann extrahiert, indem der Befehl\n",
    "\n",
    "    b = x[ind]\n",
    "    \n",
    "eingegeben wird. Hierbei ist `b` die neue Teil-Liste."
   ]
  },
  {
   "cell_type": "code",
   "execution_count": null,
   "metadata": {},
   "outputs": [],
   "source": [
    "import numpy as np\n",
    "\n",
    "x = np.arange(1, 10, 1)\n",
    "print(x)\n",
    "ind = np.array([0, 2, 3, 7]) # indices of elements we would like to extract\n",
    "b = x[ind]\n",
    "print(b)"
   ]
  },
  {
   "cell_type": "markdown",
   "metadata": {},
   "source": [
    "### Indexing mit einem boolschen Array\n",
    "\n",
    "Eine weitere Möglichkeit bestimmte Elemente auszuwählen kann über einen Array, welcher nur _boolsche Variablen_, also `True` oder `False` enthält, gemacht werden. Hier wird ein Array benötigt, der dieselbe Größe wie der Ursprungsarray hat. Jedem Element des Arrays `x` wird so ein Element des Arrays `ind` zugewiesen. Nur wenn das entsprechende Element `True` enthält, wird es als Element des neuen Teil-Arrays `b` ausgegeben."
   ]
  },
  {
   "cell_type": "code",
   "execution_count": null,
   "metadata": {},
   "outputs": [],
   "source": [
    "# Note that boolean-indexing is usually never done explicitely\n",
    "# but indirectly via masking (see below). We show the explicit\n",
    "# boolean masking for demonstration purposes here.\n",
    "import numpy as np\n",
    "\n",
    "x = np.arange(1, 5, 1)\n",
    "print(x)\n",
    "# we access indices that are 'True' in a boolean array\n",
    "# of the same size as x:\n",
    "ind = np.array([True, False, True, True])\n",
    "b = x[ind]\n",
    "print(b)"
   ]
  },
  {
   "cell_type": "markdown",
   "metadata": {},
   "source": [
    "### Maskierung\n",
    "\n",
    "Maskierung kann für Fälle verwendet werden, in denen nur Elemente, die eine bestimmte Bedingung erfüllen ausgewählt werden sollen. Das kann z.B. notwendig sein, wenn man den Logarithmus der Elemente berechnen will und dazu alle Elemente auswählen muss, welche größer als 0 sind. Die _Maske_ ist dabei eine einfache Bedingung wie z.B. ` y = (x > 0)`. Die Maske wird dann analog zu oben über \n",
    "\n",
    "    y = x[mask1]\n",
    "    \n",
    "auf den Ursprungsarray `x` angewendet um das Teil-Array `y` zu erhalten.    \n",
    "\n",
    "\n",
    "Im untenstehenden Beispiel wird ein `numpy`-Array über die Funktion `randint()` erzeugt. Diese Funktion erzeugt Zufallszahlen. Der Aufruf ist der folgende\n",
    "\n",
    "    x = nr.randint(start, end, number)\n",
    "    \n",
    "wobei die Anzahl an Zufallszahlen (`number`) zwischen den Werten `start` und `end` erzeugt werden sollen. Anschließend werden verschiedene Masken definiert und auf das Array angewendet."
   ]
  },
  {
   "cell_type": "code",
   "execution_count": null,
   "metadata": {},
   "outputs": [],
   "source": [
    "import numpy as np\n",
    "import numpy.random as nr\n",
    "\n",
    "x = nr.randint(-10, 10, 10)\n",
    "print('Ursprungsarray mit Zufallszahlen: ', x)\n",
    "mask1 = (x > 0)  # mask is a bool array\n",
    "y = x[mask1]     # extract the values from x where mask = True\n",
    "print('Alle Werte groesser als 0: ',y)\n",
    "mask2 = (x > 0) & (x < 4)  # combined mask (and condition)\n",
    "mask3 = (x < -5) | ( x > 5) # combined mask (or condition)\n",
    "print('Alle Werte zwischen 0 und 4: ', x[mask2])\n",
    "print('Alle Werte kleiner -5 oder groesser als +5: ', x[mask3])"
   ]
  },
  {
   "cell_type": "markdown",
   "metadata": {},
   "source": [
    "## Wichtige Bemerkungen\n",
    "\n",
    "- Im Gegensatz zu dem Zerschneiden von Arrays werde beim Fancy Indexing und bei der Maskierung immer Kopien des Ursprungsarray zurückgegeben. Dies ist ein Unterschied zu den Standard-Listen von Python! Hier werden beim Zerschneiden von Listen auch immer Kopien zurückgegeben!\n"
   ]
  },
  {
   "cell_type": "code",
   "execution_count": null,
   "metadata": {},
   "outputs": [],
   "source": [
    "import numpy as np\n",
    "\n",
    "a = np.arange(0, 11, 1)\n",
    "\n",
    "b = a[::2] # get each second number of a\n",
    "print('Teil-Liste b: ',b)\n",
    "\n",
    "# create the 'same' array with fancy indexing:\n",
    "c = a[np.array([0, 2, 4, 6, 8, 10])]\n",
    "print('Teil-Liste c: ',c)\n",
    "\n",
    "# create again the 'same' array with masking:\n",
    "d = a[a%2 == 0]\n",
    "print('Teil-Liste d: ',d)\n",
    "\n",
    "# only a modification in b also modifies a!\n",
    "b[0] = 5\n",
    "print('Ursprungsliste: ', a, 'Teil-Liste b: ', b)\n",
    "\n",
    "c[1] = 100\n",
    "print('Ursprungsliste: ', a,'Teil-Liste c: ', c)\n",
    "\n",
    "d[2] = 1000\n",
    "print('Ursprungsliste: ', a,'Teil-Liste d: ', d)"
   ]
  },
  {
   "cell_type": "markdown",
   "metadata": {},
   "source": [
    "- Sowohl Fancy Indexing, als auch Maskierung kann auch auf der __linken Seite__ einer Zuweisung verwendet werden. Es muss nicht als Extra-Befehl ausgeführt werden."
   ]
  },
  {
   "cell_type": "code",
   "execution_count": null,
   "metadata": {},
   "outputs": [],
   "source": [
    "import numpy as np\n",
    "\n",
    "a = np.arange(0, 11, 1)\n",
    "print(a)\n",
    "ind = np.array([0, 2, 4])\n",
    "a[ind] = 1000\n",
    "print(a)\n",
    "\n",
    "b = np.arange(0, 11, 1)\n",
    "print(b)\n",
    "b[b%2 == 0] = 1000\n",
    "print(b)"
   ]
  },
  {
   "cell_type": "code",
   "execution_count": null,
   "metadata": {},
   "outputs": [],
   "source": []
  }
 ],
 "metadata": {
  "kernelspec": {
   "display_name": "Python 3",
   "language": "python",
   "name": "python3"
  },
  "language_info": {
   "codemirror_mode": {
    "name": "ipython",
    "version": 3
   },
   "file_extension": ".py",
   "mimetype": "text/x-python",
   "name": "python",
   "nbconvert_exporter": "python",
   "pygments_lexer": "ipython3",
   "version": "3.6.9"
  }
 },
 "nbformat": 4,
 "nbformat_minor": 2
}
