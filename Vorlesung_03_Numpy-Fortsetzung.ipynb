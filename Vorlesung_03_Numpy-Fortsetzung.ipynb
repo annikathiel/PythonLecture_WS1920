{
 "cells": [
  {
   "cell_type": "markdown",
   "metadata": {},
   "source": [
    "# Numpy -- Fortsetzung"
   ]
  },
  {
   "cell_type": "markdown",
   "metadata": {},
   "source": [
    "## Wiederholung von letzter Vorlesung"
   ]
  },
  {
   "cell_type": "markdown",
   "metadata": {},
   "source": [
    "`numpy` ist eine Bibliothek, mit der in Python große Datenmengen schnell verarbeitet werden können. Die Bibliothek wird mit\n",
    "\n",
    "    import numpy as np\n",
    "    \n",
    "geladen. `numpy`-Arrays werden z.B. mit\n",
    "\n",
    "    a = np.arange(0,100,1)\n",
    "    \n",
    "erzeugt und können wie im folgenden Beispiel verarbeitet werden:"
   ]
  },
  {
   "cell_type": "code",
   "execution_count": null,
   "metadata": {},
   "outputs": [],
   "source": [
    "import numpy as np\n",
    "\n",
    "a = np.arange(0,100,1)\n",
    "b = np.linspace(0,10,100)\n",
    "\n",
    "c = a**b\n",
    "print(c)"
   ]
  },
  {
   "cell_type": "markdown",
   "metadata": {},
   "source": [
    "## Zweidimensionales Array: Beispiel\n",
    "\n",
    "Das untenstehende Beispiel erzeugt ein zweidimensionales `numpy`-Array. Dieses kann über `matshow` als 2D-Diagramm dargestellt werden. Auf der x-Achse ist der Sinus, auf der y-Achse der Cosinus dargestellt."
   ]
  },
  {
   "cell_type": "code",
   "execution_count": null,
   "metadata": {},
   "outputs": [],
   "source": [
    "%matplotlib inline\n",
    "import numpy as np\n",
    "import matplotlib.pyplot as plt\n",
    "\n",
    "plt.figure(figsize=(10,10))\n",
    "\n",
    "a = np.zeros(shape=(100,100))\n",
    "\n",
    "x = np.linspace(0.0, 2* np.pi, 100)\n",
    "y = np.linspace(0.0, 2* np.pi, 100)\n",
    "\n",
    "x_pos = 0\n",
    "for i in x:\n",
    "    y_pos=0\n",
    "    for j in y:\n",
    "        a[x_pos, y_pos] = np.cos(i)*np.sin(j)\n",
    "        y_pos += 1\n",
    "    x_pos += 1\n",
    "      \n",
    "print(a)        \n",
    "        \n",
    "plt.matshow(a)\n",
    "plt.colorbar()\n",
    "\n",
    "plt.show()"
   ]
  },
  {
   "cell_type": "code",
   "execution_count": null,
   "metadata": {},
   "outputs": [],
   "source": [
    "plt.plot(a[40,:])\n",
    "#plt.plot(a[:,30])\n",
    "#plt.plot(a[20,:])\n",
    "#plt.plot(a[65,:])\n",
    "#plt.plot(a[:,35])\n",
    "plt.show()"
   ]
  },
  {
   "cell_type": "code",
   "execution_count": null,
   "metadata": {},
   "outputs": [],
   "source": [
    "plt.plot(a[:,55:70:2])\n",
    "plt.show()"
   ]
  },
  {
   "cell_type": "code",
   "execution_count": null,
   "metadata": {
    "scrolled": true
   },
   "outputs": [],
   "source": [
    "plt.matshow(a[20:50,35:60])\n",
    "plt.show()"
   ]
  },
  {
   "cell_type": "markdown",
   "metadata": {},
   "source": [
    "# Fancy Indexing und Maskierung\n",
    "\n",
    "Fancy Indexing (zu deutsch etwa \"ausgefallene Indizierung\") und Maskierung sind zwei weitere geschickte Methoden bestimmte Elemente aus einem `numpy`-Array zu extrahieren."
   ]
  },
  {
   "cell_type": "markdown",
   "metadata": {},
   "source": [
    "### Fancy Indexing\n",
    "\n",
    "Fancy Indexing kann verwendet werden um bestimmte Elemente aus einem Array zu extrahieren. Dazu muss ein weiterer `numpy`-Array angelegt werden, welcher die __Indices der zu extrahierenden Elemente__ enthält. Hier muss wieder beachtet werden, dass die Nummerierung der Indices eines Arrays bei __0__ beginnt!\n",
    "\n",
    "Im folgenden Beispiel wird ein Array `x` mit den Zahlen 1 bis 10 angelegt. Aus diesem sollen nur bestimmte Zahlen extrahiert werden. Dazu wird der Array `ind` definiert, der die Indices dieser Elemente enthält. Die Teil-Liste wird dann extrahiert, indem der Befehl\n",
    "\n",
    "    b = x[ind]\n",
    "    \n",
    "eingegeben wird. Hierbei ist `b` die neue Teil-Liste."
   ]
  },
  {
   "cell_type": "code",
   "execution_count": null,
   "metadata": {},
   "outputs": [],
   "source": [
    "import numpy as np\n",
    "\n",
    "x = np.arange(1, 10, 1)\n",
    "print(x)"
   ]
  },
  {
   "cell_type": "code",
   "execution_count": null,
   "metadata": {},
   "outputs": [],
   "source": [
    "ind = np.array([0, 2, 3, 7]) # indices of elements we would like to extract\n",
    "b = x[ind]\n",
    "print(b)"
   ]
  },
  {
   "cell_type": "markdown",
   "metadata": {},
   "source": [
    "### Indexing mit einem boolschen Array\n",
    "\n",
    "Eine weitere Möglichkeit bestimmte Elemente auszuwählen kann über einen Array, welcher nur _boolsche Variablen_, also `True` oder `False` enthält, gemacht werden. Hier wird ein Array benötigt, der dieselbe Größe wie der Ursprungsarray hat. Jedem Element des Arrays `x` wird so ein Element des Arrays `ind` zugewiesen. Nur wenn das entsprechende Element `True` enthält, wird es als Element des neuen Teil-Arrays `b` ausgegeben."
   ]
  },
  {
   "cell_type": "code",
   "execution_count": null,
   "metadata": {},
   "outputs": [],
   "source": [
    "# Note that boolean-indexing is usually never done explicitely\n",
    "# but indirectly via masking (see below). We show the explicit\n",
    "# boolean masking for demonstration purposes here.\n",
    "import numpy as np\n",
    "\n",
    "x = np.arange(1, 5, 1)\n",
    "print(x)\n",
    "# we access indices that are 'True' in a boolean array\n",
    "# of the same size as x:\n",
    "ind = np.array([True, False, True, True])\n",
    "b = x[ind]\n",
    "print(b)"
   ]
  },
  {
   "cell_type": "markdown",
   "metadata": {},
   "source": [
    "### Maskierung\n",
    "\n",
    "Maskierung kann für Fälle verwendet werden, in denen nur Elemente, die eine bestimmte Bedingung erfüllen ausgewählt werden sollen. Das kann z.B. notwendig sein, wenn man den Logarithmus der Elemente berechnen will und dazu alle Elemente auswählen muss, welche größer als 0 sind. Die _Maske_ ist dabei eine einfache Bedingung wie z.B. ` y = (x > 0)`. Die Maske wird dann analog zu oben über \n",
    "\n",
    "    y = x[mask1]\n",
    "    \n",
    "auf den Ursprungsarray `x` angewendet um das Teil-Array `y` zu erhalten.    \n",
    "\n",
    "\n",
    "Im untenstehenden Beispiel wird ein `numpy`-Array über die Funktion `randint()` erzeugt. Diese Funktion erzeugt Zufallszahlen. Der Aufruf ist der folgende\n",
    "\n",
    "    x = nr.randint(start, end, number)\n",
    "    \n",
    "wobei die Anzahl an Zufallszahlen (`number`) zwischen den Werten `start` und `end` erzeugt werden sollen. Anschließend werden verschiedene Masken definiert und auf das Array angewendet."
   ]
  },
  {
   "cell_type": "code",
   "execution_count": null,
   "metadata": {},
   "outputs": [],
   "source": [
    "import numpy as np\n",
    "import numpy.random as nr\n",
    "\n",
    "x = nr.randint(-10, 10, 10)\n",
    "print('Ursprungsarray mit Zufallszahlen: ', x)"
   ]
  },
  {
   "cell_type": "code",
   "execution_count": null,
   "metadata": {},
   "outputs": [],
   "source": [
    "mask1 = (x > 0)  # mask is a bool array\n",
    "y = x[mask1]     # extract the values from x where mask = True\n",
    "print('Alle Werte groesser als 0: ',y)"
   ]
  },
  {
   "cell_type": "code",
   "execution_count": null,
   "metadata": {},
   "outputs": [],
   "source": [
    "mask2 = (x > 0) & (x < 4)  # combined mask (and condition)\n",
    "mask3 = (x < -5) | ( x > 5) # combined mask (or condition)\n",
    "print('Alle Werte zwischen 0 und 4: ', x[mask2])\n",
    "print('Alle Werte kleiner -5 oder groesser als +5: ', x[mask3])"
   ]
  },
  {
   "cell_type": "markdown",
   "metadata": {},
   "source": [
    "## Wichtige Bemerkungen\n",
    "\n",
    "- Im Gegensatz zu dem Zerschneiden von Arrays werde beim Fancy Indexing und bei der Maskierung immer Kopien des Ursprungsarray zurückgegeben. Dies ist ein Unterschied zu den Standard-Listen von Python! Hier werden beim Zerschneiden von Listen auch immer Kopien zurückgegeben!\n"
   ]
  },
  {
   "cell_type": "code",
   "execution_count": null,
   "metadata": {},
   "outputs": [],
   "source": [
    "import numpy as np\n",
    "\n",
    "a = np.arange(0, 11, 1)\n",
    "\n",
    "b = a[::2] # get each second number of a\n",
    "print('Teil-Liste b: ',b)\n",
    "\n",
    "# create the 'same' array with fancy indexing:\n",
    "c = a[np.array([0, 2, 4, 6, 8, 10])]\n",
    "print('Teil-Liste c: ',c)\n",
    "\n",
    "# create again the 'same' array with masking:\n",
    "d = a[a%2 == 0]\n",
    "print('Teil-Liste d: ',d)"
   ]
  },
  {
   "cell_type": "code",
   "execution_count": null,
   "metadata": {},
   "outputs": [],
   "source": [
    "# only a modification in b also modifies a!\n",
    "b[0] = 5\n",
    "print('Ursprungsliste: ', a, 'Teil-Liste b: ', b)"
   ]
  },
  {
   "cell_type": "code",
   "execution_count": null,
   "metadata": {},
   "outputs": [],
   "source": [
    "c[1] = 100\n",
    "print('Ursprungsliste: ', a,'Teil-Liste c: ', c)"
   ]
  },
  {
   "cell_type": "code",
   "execution_count": null,
   "metadata": {},
   "outputs": [],
   "source": [
    "d[2] = 1000\n",
    "print('Ursprungsliste: ', a,'Teil-Liste d: ', d)"
   ]
  },
  {
   "cell_type": "markdown",
   "metadata": {},
   "source": [
    "- Sowohl Fancy Indexing, als auch Maskierung kann auch auf der __linken Seite__ einer Zuweisung verwendet werden. Es muss nicht als Extra-Befehl ausgeführt werden."
   ]
  },
  {
   "cell_type": "code",
   "execution_count": null,
   "metadata": {},
   "outputs": [],
   "source": [
    "import numpy as np\n",
    "\n",
    "a = np.arange(0, 11, 1)\n",
    "print(a)\n",
    "ind = np.array([0, 2, 4])\n",
    "a[ind] = 1000\n",
    "print(a)"
   ]
  },
  {
   "cell_type": "code",
   "execution_count": null,
   "metadata": {},
   "outputs": [],
   "source": [
    "b = np.arange(0, 11, 1)\n",
    "print(b)\n",
    "b[b%2 == 0] = 1000\n",
    "print(b)"
   ]
  },
  {
   "cell_type": "code",
   "execution_count": null,
   "metadata": {},
   "outputs": [],
   "source": []
  },
  {
   "cell_type": "markdown",
   "metadata": {},
   "source": [
    "---\n",
    "# Matplotlib\n",
    "\n",
    "Matplotlib ist eine Bibliothek die viele Möglichkeiten zur Darstellung von Funktionen und Daten zur Verfügung stellt. Die Bibliothek wird über\n",
    "\n",
    "    import matplotlib.pyplot as plt\n",
    "  \n",
    "geladen. Damit hier im Jupyter Notebook auch die Histogramme dargestellt werden können, wird noch die Zeile\n",
    "\n",
    "    %matplotlib inline\n",
    "\n",
    "benötigt. Für \"normale\" Python-Programme ist das nicht notwendig!\n",
    "\n",
    "## Darstellen von Funktionen"
   ]
  },
  {
   "cell_type": "markdown",
   "metadata": {},
   "source": [
    "Wir hatten einfache Darstellung von Funktionen oder Datenpunkten schon in den Übungen und letzte Woche gesehen.\n",
    "\n",
    "Wenn Sie die  Abbildung speicher wollen, verwenden Sie bitte das Kommando:\n",
    "\n",
    "    plt.savefig('/pfad/dateiname.png')"
   ]
  },
  {
   "cell_type": "code",
   "execution_count": null,
   "metadata": {},
   "outputs": [],
   "source": [
    "%matplotlib inline\n",
    "import matplotlib.pyplot as plt\n",
    "\n",
    "plt.figure(figsize=(10,6))\n",
    "\n",
    "# Note that you can use LaTeX in for labels, titles\n",
    "# etc.\n",
    "plt.xlabel(r\"$x$\")\n",
    "plt.ylabel(r\"$y$\")\n",
    "plt.title(r\"The $\\sin(x)$ and $\\cos(x)$ functions\")\n",
    "\n",
    "x = np.linspace(0.0, 2.0 * np.pi, 100)\n",
    "sinx = np.sin(x)\n",
    "cosx = np.cos(x)\n",
    "\n",
    "# a simple x-y plot\n",
    "plt.plot(x, sinx, \"*-\")\n",
    "plt.plot(x, cosx, \"ro\")\n",
    "plt.show()\n",
    "\n",
    "#plt.savefig('/pfad/dateiname.png')"
   ]
  },
  {
   "cell_type": "markdown",
   "metadata": {},
   "source": [
    "### Darstellung von Linien und Füllungen\n",
    "\n",
    "Wenn Funktionen dargestellt werden sollen, wird das über den Befehl\n",
    "\n",
    "    plt.plot(x, sinx, \"*-\")\n",
    "    \n",
    "gemacht. Dabei ist als dritter Parameter die Darstellungweise der Funktion angegeben. Dieser ist optional (kann weggelassen werden) und nimmt die folgenden Parameter:    \n",
    "\n",
    "|Symbol |\tFarbe|\n",
    "| --- | --- |\n",
    "|`b` |\tblue|\n",
    "|`c` |\tcyan|\n",
    "|`g` |\tgreen|\n",
    "|`m` |\tmagenta|\n",
    "|`r` |\tred|\n",
    "|`y` |\tyellow|\n",
    "|`k` |\tblack|\n",
    "|`w` |\twhite|\n",
    "\n",
    "|Symbol |\tForm|\n",
    "| --- | ---|\n",
    "|`-` |\tDurchgezogene Linie |\n",
    "|`--` |\tGestrichelte Linie |\n",
    "|`-.` |\tAbwechselnd gestrichelte und gepunktete Linie |\n",
    "|`:` |\tGepunktete Linie |\n",
    "|`o` |\tEinzelne Punkte, Darstellung als farbige Kreise |\n",
    "|`s` |\tEinzelne Punkte, Darstellung als farbige Rechtecke |\n",
    "|`D` |\tEinzelne Punkte, Darstellung als Diamant-Form|\n",
    "|`^` |\tEinzelne Punkte, Darstellung als farbige Dreiecke|\n",
    "|`x` |\tEinzelne Punkte, Darstellung als farbige x-Zeichen|\n",
    "|`*` |\tEinzelne Punkte, Darstellung als farbige *-Zeichen|\n",
    "|`+` |\tEinzelne Punkte, Darstellung als farbige +-Zeichen|"
   ]
  },
  {
   "cell_type": "code",
   "execution_count": null,
   "metadata": {},
   "outputs": [],
   "source": [
    "plt.figure(figsize=(10,6))\n",
    "\n",
    "plt.xlabel(r\"$x$\")\n",
    "plt.ylabel(r\"$y$\")\n",
    "plt.title(r\"Just some functions\")\n",
    "\n",
    "x = np.linspace(0.0, 2.0 * np.pi, 100)\n",
    "fkt1 = np.sin(x)**3\n",
    "fkt2 = np.cos(2.5*x)\n",
    "\n",
    "# a simple x-y plot\n",
    "plt.plot(x, fkt1, \"c--\")\n",
    "plt.plot(x, fkt2, \"m-.\")\n",
    "plt.show()"
   ]
  },
  {
   "cell_type": "markdown",
   "metadata": {},
   "source": [
    "Über den Befehl `fill_between` kann auch die Fläche über, unter oder zwischen Funktionen gefüllt werden:"
   ]
  },
  {
   "cell_type": "code",
   "execution_count": null,
   "metadata": {},
   "outputs": [],
   "source": [
    "plt.figure(figsize=(10,6))\n",
    "\n",
    "plt.xlabel(r\"$x$\")\n",
    "plt.ylabel(r\"$y$\")\n",
    "plt.title(r\"Just some functions\")\n",
    "\n",
    "plt.fill_between(x, 0, fkt1, color='blue', alpha=.1)\n",
    "plt.fill_between(x, -1, fkt2, color='orange', alpha=.1)\n",
    "\n",
    "plt.plot(x, fkt1, \"--\")\n",
    "plt.plot(x, fkt2, \"-.\")\n",
    "plt.show()"
   ]
  },
  {
   "cell_type": "code",
   "execution_count": null,
   "metadata": {
    "scrolled": true
   },
   "outputs": [],
   "source": [
    "plt.figure(figsize=(10,4))\n",
    "\n",
    "plt.xlabel(r\"$x$\")\n",
    "plt.ylabel(r\"$y$\")\n",
    "plt.title(r\"Just some functions\")\n",
    "\n",
    "plt.fill_between(x, fkt1, fkt2, color='blue', alpha=0.1)\n",
    "\n",
    "plt.plot(x, fkt1, \"--\")\n",
    "plt.plot(x, fkt2, \"-.\")\n",
    "plt.show()"
   ]
  },
  {
   "cell_type": "markdown",
   "metadata": {},
   "source": [
    "### Achsen\n",
    "\n",
    "Auch die Achsen können nach belieben formatiert werden. Dazu kann, wie in den folgenden zwei Beispielen gezeigt, sowohl der Bereich der Achsen, als auch die Positon und die Bezeichnung der Skalierung modifiziert werden."
   ]
  },
  {
   "cell_type": "code",
   "execution_count": null,
   "metadata": {},
   "outputs": [],
   "source": [
    "plt.figure(figsize=(10,6))\n",
    "\n",
    "plt.xlabel(r\"$x$\")\n",
    "plt.ylabel(r\"$y$\")\n",
    "plt.title(r\"Just some functions\")\n",
    "\n",
    "x = np.linspace(-2.0 * np.pi, 2.0 * np.pi, 100)\n",
    "fkt1 = 3*np.sin(x)**3\n",
    "fkt2 = np.cos(2.5*x)\n",
    "\n",
    "\n",
    "plt.axis([0, 5, -10, 10]) # values: xmin, xmax, ymin, ymax\n",
    "\n",
    "plt.plot(x, fkt1, \"--\")\n",
    "plt.plot(x, fkt2, \"-.\")\n",
    "plt.show()"
   ]
  },
  {
   "cell_type": "code",
   "execution_count": null,
   "metadata": {},
   "outputs": [],
   "source": [
    "plt.figure(figsize=(10,6))\n",
    "\n",
    "plt.xlabel(r\"$x$\")\n",
    "plt.ylabel(r\"$y$\")\n",
    "plt.title(r\"Just some functions\")\n",
    "\n",
    "x = np.linspace(-2.0 * np.pi, 2.0 * np.pi, 100)\n",
    "fkt1 = 3*np.sin(x)**3\n",
    "fkt2 = np.cos(2.5*x)\n",
    "\n",
    "plt.xticks( [-6.28, -3.14, 0, 3.14, 6.28],\n",
    "        [r'$-2\\pi$', r'$-\\pi$', 0, r'$+\\pi$', r'$+2\\pi$'])\n",
    "plt.yticks([-3, -1, 0, +1, 3])\n",
    "\n",
    "plt.plot(x, fkt1, \"--\")\n",
    "plt.plot(x, fkt2, \"-.\")\n",
    "plt.show()"
   ]
  },
  {
   "cell_type": "markdown",
   "metadata": {},
   "source": [
    "Etwas aufwändiger ist die Verschiebung der Position der Achsen. Dies kann über die Befehle im untenstehenden Beispiel geschehen:"
   ]
  },
  {
   "cell_type": "code",
   "execution_count": null,
   "metadata": {},
   "outputs": [],
   "source": [
    "plt.figure(figsize=(10,6))\n",
    "\n",
    "plt.xlabel(r\"$x$\")\n",
    "plt.ylabel(r\"$y$\")\n",
    "plt.title(r\"Just some functions\")\n",
    "\n",
    "x = np.linspace(-2.0 * np.pi, 2.0 * np.pi, 100)\n",
    "fkt1 = 3*np.sin(x)**3\n",
    "fkt2 = np.cos(2.5*x)\n",
    "\n",
    "ax = plt.gca() #gca: get the current Axes\n",
    "ax.spines['top'].set_color('none')\n",
    "ax.spines['right'].set_color('none')\n",
    "ax.spines['bottom'].set_position(('data',0))\n",
    "ax.spines['left'].set_position(('data',0))\n",
    "\n",
    "plt.xticks( [-6.28, -3.14, 0, 3.14, 6.28],\n",
    "        [r'$-2\\pi$', r'$-\\pi$', 0, r'$+\\pi$', r'$+2\\pi$'])\n",
    "plt.yticks([-3, -1, 0, +1, 3])\n",
    "\n",
    "plt.plot(x, fkt1, \"--\")\n",
    "plt.plot(x, fkt2, \"-.\")\n",
    "plt.show()"
   ]
  },
  {
   "cell_type": "markdown",
   "metadata": {},
   "source": [
    "Eine häufig genutzte Funktionalität ist die logarithmische Darstellung. Damit können mit dem Befehlen\n",
    "\n",
    "    plt.xscale('log') \n",
    "    plt.yscale('log') \n",
    "    \n",
    "eine oder beide Achsen zu einer logartihmischen Achse modifiziert werden."
   ]
  },
  {
   "cell_type": "code",
   "execution_count": null,
   "metadata": {},
   "outputs": [],
   "source": [
    "plt.figure(figsize=(10,6))\n",
    "\n",
    "plt.xlabel(r\"$x$\")\n",
    "plt.ylabel(r\"$y$\")\n",
    "plt.title(r\"Just some functions\")\n",
    "\n",
    "x = np.linspace(-2.0 * np.pi, 2.0 * np.pi, 100)\n",
    "fkt1 = 23*x**3\n",
    "fkt2 = 2.5*x**2\n",
    "\n",
    "plt.yscale('log') \n",
    "\n",
    "plt.plot(x, fkt1, \"--\")\n",
    "plt.plot(x, fkt2, \"-.\")\n",
    "plt.show()"
   ]
  },
  {
   "cell_type": "markdown",
   "metadata": {},
   "source": [
    "Zum besseren Ablesen von Funktionswerten aus den Diagrammen kann auch ein Gitter eingezeichnet werden. Dies geschieht über den Befehl\n",
    "\n",
    "    plt.grid()\n",
    "    \n",
    "wobei viele verschiedene Modifikationsmöglichkeiten zur Verfügung stehen."
   ]
  },
  {
   "cell_type": "code",
   "execution_count": null,
   "metadata": {},
   "outputs": [],
   "source": [
    "plt.figure(figsize=(10,6))\n",
    "\n",
    "plt.xlabel(r\"$x$\")\n",
    "plt.ylabel(r\"$y$\")\n",
    "plt.title(r\"Just some functions\")\n",
    "\n",
    "x = np.linspace(-2.0 * np.pi, 2.0 * np.pi, 100)\n",
    "fkt1 = 23*x**3\n",
    "fkt2 = 2.5*x**2\n",
    "\n",
    "plt.yscale('log') \n",
    "\n",
    "plt.grid(color='b', alpha=0.5, linestyle='dashed', linewidth=0.5)\n",
    "\n",
    "plt.plot(x, fkt1, \"--\")\n",
    "plt.plot(x, fkt2, \"-.\")\n",
    "plt.show()"
   ]
  },
  {
   "cell_type": "markdown",
   "metadata": {},
   "source": [
    "## Histogramme\n",
    "\n",
    "Histogramme werden verwendet, wenn z.B. verschiedene Meßwerte aufgenommen wurden und deren Häufigkeitsverteilung untersucht werden soll."
   ]
  },
  {
   "cell_type": "code",
   "execution_count": null,
   "metadata": {},
   "outputs": [],
   "source": [
    "import matplotlib.pyplot as plt\n",
    "import numpy as np\n",
    "\n",
    "plt.figure(figsize=(10,6))\n",
    "\n",
    "gaussian_numbers = np.random.normal(size=10000)\n",
    "\n",
    "print(gaussian_numbers)\n",
    "\n",
    "plt.hist(gaussian_numbers)\n",
    "\n",
    "plt.title(\"Gaussian Histogram\")\n",
    "plt.xlabel(\"Wert\")\n",
    "plt.ylabel(\"Häufigkeit\")\n",
    "\n",
    "plt.show()"
   ]
  },
  {
   "cell_type": "code",
   "execution_count": null,
   "metadata": {},
   "outputs": [],
   "source": [
    "plt.figure(figsize=(10,6))\n",
    "\n",
    "plt.title(\"Gaussian Histogram\")\n",
    "plt.xlabel(\"Wert\")\n",
    "plt.ylabel(\"Häufigkeit\")\n",
    "\n",
    "gaussian_numbers = np.random.normal(size=10000)\n",
    "gaussian_numbers2 = np.random.normal(size=10000)\n",
    "\n",
    "plt.hist(gaussian_numbers, bins=100, color=\"red\",alpha=0.2)\n",
    "plt.hist(gaussian_numbers2+1, bins=100, color=\"blue\",alpha=0.2)\n",
    "plt.show()"
   ]
  },
  {
   "cell_type": "markdown",
   "metadata": {},
   "source": [
    "## Streudiagramme\n",
    "\n",
    "Streudiagramme werden zur Darstellung verwendet, wenn z.B. korrelierte Daten vorliegen oder xy-Koordinaten."
   ]
  },
  {
   "cell_type": "code",
   "execution_count": null,
   "metadata": {},
   "outputs": [],
   "source": [
    "import matplotlib.pyplot as plt\n",
    "import numpy as np\n",
    "\n",
    "plt.figure(figsize=(6,6))\n",
    "\n",
    "numbers_x = np.random.normal(size=1000)\n",
    "numbers_y = np.random.normal(size=1000)\n",
    "\n",
    "plt.scatter(numbers_x,numbers_y)\n",
    "\n",
    "plt.title(\"Gaussian Histogram\")\n",
    "plt.xlabel(\"x-Werte\")\n",
    "plt.ylabel(\"y-Werte\")\n",
    "\n",
    "plt.show()"
   ]
  },
  {
   "cell_type": "markdown",
   "metadata": {},
   "source": [
    "---\n",
    "# Funktionen"
   ]
  },
  {
   "cell_type": "markdown",
   "metadata": {},
   "source": [
    "Wir werden in diesem Tutorial zwei verschiedene Typen von Funktionen kennenlernen: zum Einen von Python vorgegebene Funktionen, zum Anderen selbstgeschriebene Funktionen.\n",
    "\n",
    "Von Python vogegebene Funktionen sind z.B:"
   ]
  },
  {
   "cell_type": "code",
   "execution_count": null,
   "metadata": {},
   "outputs": [],
   "source": [
    "print(\"Hallo\")"
   ]
  },
  {
   "cell_type": "markdown",
   "metadata": {},
   "source": [
    "Funktionsname ist `print`, beim Aufrufen wird als Option `\"Hallo\"` mitgegeben. Die Funktion liefert eine Ausgabe."
   ]
  },
  {
   "cell_type": "code",
   "execution_count": null,
   "metadata": {},
   "outputs": [],
   "source": [
    "import numpy as np\n",
    "x = np.linspace(-1.0, 2.0, 51)"
   ]
  },
  {
   "cell_type": "markdown",
   "metadata": {},
   "source": [
    "Funktionsname ist `linspace`, die Optionen sind hier `-1.0`,`2.0`,`51` und der Rückgabewert ist ein `numpy`-Array."
   ]
  },
  {
   "cell_type": "markdown",
   "metadata": {},
   "source": [
    "Eine selbstgeschriebene Funktion ist folgendermaßen aufgebaut:\n",
    "- Eine Funktion wird über das Schlüsselwort `def` eingeleitet.\n",
    "- Sie besitzt einen Namen, z.B. `printstatement`.\n",
    "- Sie kann keinen, einen oder mehrere Eingabeparameter besitzen, z.B. `param1` und `param2`. Diese werden in runden Klammern hinter dem Namen der Funktion angegeben.\n",
    "- Die Funktion besitzt einen Funktionscode. In unserem ersten Beispiel ist das lediglich eine Ausgabe mit dem Befehl `print`.\n",
    "- Sie besitzt eine Rückgabeparameter. Dieser kann auch bei Bedarf leer bleiben, in diesem Fall wird der Rückgabeparameter `None` verwendet. Der Rückgabeparameter ist mit dem Schlüsselwort `return` gekennzeichnet.\n",
    "\n",
    "Die Funktion aus unserem Beispiel würde damit so aussehen:"
   ]
  },
  {
   "cell_type": "code",
   "execution_count": null,
   "metadata": {},
   "outputs": [],
   "source": [
    "def printstatement(param1, param2):\n",
    "    print(\"Hello World\")\n",
    "    return None"
   ]
  },
  {
   "cell_type": "markdown",
   "metadata": {},
   "source": [
    "## Parameter"
   ]
  },
  {
   "cell_type": "markdown",
   "metadata": {},
   "source": [
    "Jede Funktion kann keinen, einen oder mehrere Parameter beim Aufruf erhalten.\n",
    "\n",
    "Eine Funktion ohne Parameter:"
   ]
  },
  {
   "cell_type": "code",
   "execution_count": null,
   "metadata": {},
   "outputs": [],
   "source": [
    "def funktion_ohne_parameter():\n",
    "    print(\"Ich gebe nur Text aus...\")"
   ]
  },
  {
   "cell_type": "code",
   "execution_count": null,
   "metadata": {},
   "outputs": [],
   "source": [
    "funktion_ohne_parameter()"
   ]
  },
  {
   "cell_type": "markdown",
   "metadata": {},
   "source": [
    "Eine Funktion mit mehreren Parametern:"
   ]
  },
  {
   "cell_type": "code",
   "execution_count": null,
   "metadata": {},
   "outputs": [],
   "source": [
    "def twelvedays(day,text):\n",
    "    print(\"On the \", day, \". day of Christmas, my true love sent to me: \",text)"
   ]
  },
  {
   "cell_type": "code",
   "execution_count": null,
   "metadata": {},
   "outputs": [],
   "source": [
    "twelvedays(1,\"A partridge in a pear tree.\")\n",
    "twelvedays(2,\"Two turtle doves.\")\n",
    "twelvedays(3,\"Three French hens.\")"
   ]
  },
  {
   "cell_type": "markdown",
   "metadata": {},
   "source": [
    "Die Parameter können auch optional sein, d.h. man kann sie angeben, muss man aber nicht. Dazu muss bei der Funktionsdefinition der Wert des Parameters mitgegeben werden, falls er nicht gesetzt wurde."
   ]
  },
  {
   "cell_type": "code",
   "execution_count": null,
   "metadata": {},
   "outputs": [],
   "source": [
    "def xhochy(x,y=2):\n",
    "    print(x**y)"
   ]
  },
  {
   "cell_type": "code",
   "execution_count": null,
   "metadata": {},
   "outputs": [],
   "source": [
    "xhochy(5,3)\n",
    "xhochy(5)"
   ]
  },
  {
   "cell_type": "markdown",
   "metadata": {},
   "source": [
    "# Rückgabewerte\n",
    "Häufig haben Sie schon Konstrukte benutzt wie\n",
    "\n",
    "    value = funktionsname(optionen)\n",
    "    \n",
    "Dies kann durch die Rückgabewerte einer Funktion realisiert werden. Dazu wird das Code-Wort `return` verwendet. Der Wert, der nach dem `return` angegeben ist, wird von der Funktion _zurückgegeben_."
   ]
  },
  {
   "cell_type": "code",
   "execution_count": null,
   "metadata": {},
   "outputs": [],
   "source": [
    "def xhochy(x,y=2):\n",
    "    return x**y"
   ]
  },
  {
   "cell_type": "code",
   "execution_count": null,
   "metadata": {},
   "outputs": [],
   "source": [
    "value = xhochy(6,3)\n",
    "print(value)"
   ]
  },
  {
   "cell_type": "markdown",
   "metadata": {},
   "source": [
    "__Hinweis:__<br>\n",
    "Jede Funktion hat einen Rückgabewert. Wenn Sie diesen aber nicht setzen, wird er als `None`, also \"Nichts\" angenommen. Korrekterweise sollte man immer ein `return`-Statement in einer Funktion haben. Falls Sie nichts zurückgeben wollen, dann mit \n",
    "    \n",
    "    return None"
   ]
  },
  {
   "cell_type": "markdown",
   "metadata": {},
   "source": [
    "Bei Python ist es auch möglich mehrere Rückgabewerte zu haben. Diese werden hinter dem Schlüsselwort `return` durch Komma separiert angegeben."
   ]
  },
  {
   "cell_type": "code",
   "execution_count": null,
   "metadata": {},
   "outputs": [],
   "source": [
    "def trigonometrie(val):\n",
    "    return (np.sin(val),np.cos(val))\n",
    "\n",
    "(val1,val2) = trigonometrie(0.34)\n",
    "print(val1,val2)\n",
    "\n",
    "(val1,val2) = trigonometrie(0.62)\n",
    "print(val1,val2)"
   ]
  },
  {
   "cell_type": "markdown",
   "metadata": {},
   "source": [
    "## Beispiel einer selbstgeschriebenen Funktion\n",
    "Funktion zur Berechnung der Temperatur in Grad Celsius:"
   ]
  },
  {
   "cell_type": "code",
   "execution_count": null,
   "metadata": {},
   "outputs": [],
   "source": [
    "def fahrenheit(T_in_celsius):\n",
    "    \"\"\" returns the temperature in degrees Fahrenheit \"\"\"\n",
    "    return (T_in_celsius * 9 / 5) + 32"
   ]
  },
  {
   "cell_type": "code",
   "execution_count": null,
   "metadata": {},
   "outputs": [],
   "source": [
    "val = fahrenheit(42)\n",
    "print(val)"
   ]
  },
  {
   "cell_type": "code",
   "execution_count": null,
   "metadata": {},
   "outputs": [],
   "source": [
    "for t in (22.6, 25.8, 27.3, 29.8):\n",
    "    print(t, \": \", fahrenheit(t))"
   ]
  },
  {
   "cell_type": "markdown",
   "metadata": {},
   "source": [
    "---\n",
    "# Beispiel einer _richtigen_ Datenanalyse\n",
    "\n",
    "In der ersten Übung im neuen Jahr soll eine Datenanalyse durchgeführt werden. Dazu wurden die Daten eines Experiments aus der Vorlesung \"Particle Detectors and Instrumentation\" verwendet. Ziel der Vorlesung war es, ein Experiment selbst aufzubauen und dann am Beschleuniger ELSA durchzuführen.\n",
    "Ziel des Experiments war es hierbei die folgende Reaktion zu messen:\n",
    "$$\\gamma p \\to \\Delta^+ \\to p \\pi^0$$\n",
    "mit dem Zerfall des $\\pi^0$ Mesons in zwei Photonen:\n",
    "$$\\pi^0 \\to \\gamma \\gamma$$\n",
    "\n",
    "<img src=\"protonpi0gg.png\" width=400px/>\n",
    "\n",
    "Die beiden Photonen aus dem Zerfall des $\\pi$-Mesons sollten mit zwei Detektorblöcken gemessen werden. Diese Blöcke waren so aufgebaut:\n",
    "\n",
    "<img src=\"studexp_setup.png\" width=700px/>\n",
    "\n",
    "Jeder Detektorblock bestand aus 9 Kristallen (CsI(Tl)) und wurde über APDs ausgelesen.\n",
    "\n",
    "<img src=\"9erblock_cad.jpg\" width=600px/>\n",
    "\n",
    "In einer Strahlzeit von 2 Tagen konnten Daten genommen werden, welche in einem Seminar im darauffolgenden Semester analysiert wurden. Um die Qualität der Daten abschätzen zu müssen, wurden Computersimulationen durchgeführt, in denen das gesamte Experiment nachgebaut war.\n",
    "\n",
    "<img src=\"simulation.jpg\" width=600px/>\n",
    "\n",
    "Die Analyse (eines kleinen Teils) dieser Computersimulationen wird die Aufgabe der ersten Übung nach den Weihnachtsferien sein!"
   ]
  },
  {
   "cell_type": "markdown",
   "metadata": {},
   "source": [
    "---\n",
    "# Und zuletzt:"
   ]
  },
  {
   "cell_type": "code",
   "execution_count": null,
   "metadata": {},
   "outputs": [],
   "source": [
    "#%matplotlib notebook\n",
    "%matplotlib inline"
   ]
  },
  {
   "cell_type": "code",
   "execution_count": null,
   "metadata": {},
   "outputs": [],
   "source": [
    "# coding: utf-8\n",
    "\"\"\"\n",
    "Draw a minimalist Christmas tree with Python and their awesome libraries.\n",
    "Code inspired by a StackEchange post and the Christmas spirit.\n",
    "http://codegolf.stackexchange.com/questions/15860/make-a-scalable-christmas-tree/16358#16358\n",
    "Author: Franz Navarro - CAChemE.org \n",
    "License: MIT \n",
    "Dependencies: Python, NumPy, matplotlib\n",
    "\"\"\"\n",
    " \n",
    "import matplotlib as mpl\n",
    "from mpl_toolkits.mplot3d import Axes3D\n",
    "import numpy as np\n",
    "import matplotlib.pyplot as plt\n",
    "\n",
    "fig.figsize=(10,10)\n",
    " \n",
    "# Calculate spiral coordinates for the Xmas tree\n",
    "theta = np.linspace(-8 * np.pi, 8 * np.pi, 200) \n",
    "z = np.linspace(-3, 0, 200)\n",
    "r = 5\n",
    "x = r * np.sin(theta)*z\n",
    "y = r * np.cos(theta)*z\n",
    " \n",
    "# Use matplotib and its OOP interface to draw it \n",
    "fig = plt.figure() # Create figure\n",
    "ax = fig.gca(projection='3d') # It's a 3D Xmas tree!\n",
    "ax.view_init(15, 0) # Set a nice view angle\n",
    "ax._axis3don = False # Hide the 3d axes\n",
    " \n",
    "# Plot the Xmas tree as a line\n",
    "ax.plot(x, y, z,\n",
    "        c='green', linewidth=2.5)\n",
    " \n",
    "# Every Xmas tree needs a star\n",
    "ax.scatter(0, 0, 0.2,\n",
    "           c='yellow', s=250, marker='*')\n",
    "\n",
    "for i in range(0,200,15):\n",
    "    ax.scatter(x[i], y[i], z[i],\n",
    "           c='red', s=150, marker='o')\n",
    "\n",
    "# Type here your best whishes\n",
    "ax.set_title(u\"Frohe Weihnachten und ein gutes neues Jahr!\")\n",
    " \n",
    "\n",
    "    \n",
    "plt.show()"
   ]
  },
  {
   "cell_type": "code",
   "execution_count": null,
   "metadata": {},
   "outputs": [],
   "source": []
  }
 ],
 "metadata": {
  "kernelspec": {
   "display_name": "Python 3",
   "language": "python",
   "name": "python3"
  },
  "language_info": {
   "codemirror_mode": {
    "name": "ipython",
    "version": 3
   },
   "file_extension": ".py",
   "mimetype": "text/x-python",
   "name": "python",
   "nbconvert_exporter": "python",
   "pygments_lexer": "ipython3",
   "version": "3.6.9"
  }
 },
 "nbformat": 4,
 "nbformat_minor": 2
}
