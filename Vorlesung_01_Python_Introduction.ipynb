{
 "cells": [
  {
   "cell_type": "markdown",
   "metadata": {},
   "source": [
    "# Kommentare zur Bedienung dieses Notebooks\n",
    "\n",
    "- Alle Zellen mit Python-Code sind ausführbar. Dazu muss in der Zelle `Strg + Enter` gedrückt werden und die Ausgabe wird unter der Zelle angezeigt.\n",
    "- Die Zellen können beliebig verändert werden. Die Änderungen werden nicht gespeichert, daher startet man jedes Mal mit dem ursprünglichen Notebook\n",
    "- Dieses Notebook ist dazu gedacht, parallel zur Vorlesung die behandelten Themen und Python-Codes testen zu können.\n"
   ]
  },
  {
   "cell_type": "markdown",
   "metadata": {},
   "source": [
    "# Erste Schritte mit Python"
   ]
  },
  {
   "cell_type": "markdown",
   "metadata": {},
   "source": [
    "An dieser Stelle sollen verschiedene Möglichkeiten von Python demonstriert werden. Die genauen Details aller Operationen werden in den nächsten Wochen in den Übungen genauer erklärt und geübt!"
   ]
  },
  {
   "cell_type": "markdown",
   "metadata": {},
   "source": [
    "## Rechenoperationen"
   ]
  },
  {
   "cell_type": "markdown",
   "metadata": {},
   "source": [
    "Mit Python können einfache Berechnungen ausgeführt werden, z.B."
   ]
  },
  {
   "cell_type": "code",
   "execution_count": null,
   "metadata": {},
   "outputs": [],
   "source": [
    "43 + 634"
   ]
  },
  {
   "cell_type": "code",
   "execution_count": null,
   "metadata": {},
   "outputs": [],
   "source": [
    "244 * 342"
   ]
  },
  {
   "cell_type": "markdown",
   "metadata": {},
   "source": [
    "In Python bedeutet `224**5` 224 _hoch_ 5."
   ]
  },
  {
   "cell_type": "code",
   "execution_count": null,
   "metadata": {},
   "outputs": [],
   "source": [
    "224**5"
   ]
  },
  {
   "cell_type": "markdown",
   "metadata": {},
   "source": [
    "Es gelten die üblichen Rechenregeln, für speziellere Rechnungen müssen Klammern gesetzt werden."
   ]
  },
  {
   "cell_type": "code",
   "execution_count": null,
   "metadata": {},
   "outputs": [],
   "source": [
    "(32452-234)**3/244"
   ]
  },
  {
   "cell_type": "markdown",
   "metadata": {},
   "source": [
    "Bitte probieren Sie selbst ein paar Rechnungen aus:"
   ]
  },
  {
   "cell_type": "code",
   "execution_count": null,
   "metadata": {},
   "outputs": [],
   "source": []
  },
  {
   "cell_type": "markdown",
   "metadata": {},
   "source": [
    "## Ausgaben"
   ]
  },
  {
   "cell_type": "markdown",
   "metadata": {},
   "source": [
    "Um Ausgaben zu erzeugen, wird in Python das Schlüsselwort `print()` verwendet, wobei sich innerhalb der Klammern der Text befindet, welcher ausgegeben werden soll. Handelt es sich dabei um einfachen Text, muss er in Hochkommata `''` eingefasst sein. Variablen oder andere Ausgaben benötigen keine Hochkommata."
   ]
  },
  {
   "cell_type": "code",
   "execution_count": null,
   "metadata": {},
   "outputs": [],
   "source": [
    "print('Hello World')"
   ]
  },
  {
   "cell_type": "code",
   "execution_count": null,
   "metadata": {},
   "outputs": [],
   "source": [
    "print(342+352)"
   ]
  },
  {
   "cell_type": "code",
   "execution_count": null,
   "metadata": {},
   "outputs": [],
   "source": [
    "print('342+352')"
   ]
  },
  {
   "cell_type": "markdown",
   "metadata": {},
   "source": [
    "Bitte probieren Sie selbst ein paar Ausgaben aus:"
   ]
  },
  {
   "cell_type": "code",
   "execution_count": null,
   "metadata": {},
   "outputs": [],
   "source": []
  },
  {
   "cell_type": "markdown",
   "metadata": {},
   "source": [
    "## Leerzeichen und Tabs"
   ]
  },
  {
   "cell_type": "markdown",
   "metadata": {},
   "source": [
    "Leerzeichen und Tabs haben in Python eine besondere Bedeutung. Sie werden benutzt um Schleifen, die in den nächsten Wochen näher erläutert werden, zu kennzeichnen. Daher verwenden Sie keine Leerzeichen oder Tabs am Anfang eine Python Zeile, sonst wird es zu Fehlern kommen:"
   ]
  },
  {
   "cell_type": "code",
   "execution_count": null,
   "metadata": {},
   "outputs": [],
   "source": [
    "print(\"hallo\")\n",
    "  232 + 4324"
   ]
  },
  {
   "cell_type": "markdown",
   "metadata": {},
   "source": [
    "Entfernen Sie im obigen Python-Code die Leerzeichen und beobachten Sie, was passiert."
   ]
  },
  {
   "cell_type": "markdown",
   "metadata": {},
   "source": [
    "Bei Schleifen wiederum können Leerzeichen notwenig sein:"
   ]
  },
  {
   "cell_type": "code",
   "execution_count": null,
   "metadata": {},
   "outputs": [],
   "source": [
    "for mynumber in range(0, 10):\n",
    "print(mynumber)"
   ]
  },
  {
   "cell_type": "markdown",
   "metadata": {},
   "source": [
    "Rücken Sie die zweite Zeile im obenstehenden Code mit einem *'TAB'* ein und schauen Sie, was passiert."
   ]
  },
  {
   "cell_type": "markdown",
   "metadata": {},
   "source": [
    "## Kommentare"
   ]
  },
  {
   "cell_type": "markdown",
   "metadata": {},
   "source": [
    "Der selbst geschriebene Code sollte im Idealfall kommentiert werden, damit man nachher noch nachvollziehen kann, was man wieso programmiert hat. Solche Zeilen beginnen mit `#` und werden bei der Ausführung ignoriert."
   ]
  },
  {
   "cell_type": "code",
   "execution_count": 38,
   "metadata": {},
   "outputs": [
    {
     "name": "stdout",
     "output_type": "stream",
     "text": [
      "Hello World\n"
     ]
    }
   ],
   "source": [
    "#In der naechsten Zeile gebe ich 'Hello World' aus.. Oder so\n",
    "print('Hello World')\n",
    "#Jetzt bin ich fertig"
   ]
  },
  {
   "cell_type": "markdown",
   "metadata": {},
   "source": [
    "## Variablen"
   ]
  },
  {
   "cell_type": "markdown",
   "metadata": {},
   "source": [
    "Variablen werden üblicherweise beim Programmieren benutzt, um Ergebnisse, Zeichen oder Werte zwischenzuspeichern. Die Variablen können dann zu einem späteren Zeitpunkt im Programm wieder benutzt werden."
   ]
  },
  {
   "cell_type": "code",
   "execution_count": 8,
   "metadata": {},
   "outputs": [
    {
     "name": "stdout",
     "output_type": "stream",
     "text": [
      "348 Hallo, Welt 3.14159265\n"
     ]
    }
   ],
   "source": [
    "value1 = 348\n",
    "value2 = 'Hallo, Welt'\n",
    "value3 = 3.14159265\n",
    "\n",
    "print(value1, value2, value3)"
   ]
  },
  {
   "cell_type": "code",
   "execution_count": 39,
   "metadata": {},
   "outputs": [
    {
     "name": "stdout",
     "output_type": "stream",
     "text": [
      "351.14159265\n"
     ]
    }
   ],
   "source": [
    "newval = value1 + value3\n",
    "print(newval)"
   ]
  },
  {
   "cell_type": "markdown",
   "metadata": {},
   "source": [
    "## Arrays"
   ]
  },
  {
   "cell_type": "markdown",
   "metadata": {},
   "source": [
    "Bei Arrays handelt es sich um Listen von Variablen. Diese werden in der Regel verwendet, wenn man mehrere Ergebnisse oder Zeichen speichern und bearbeiten möchte."
   ]
  },
  {
   "cell_type": "code",
   "execution_count": 40,
   "metadata": {},
   "outputs": [
    {
     "name": "stdout",
     "output_type": "stream",
     "text": [
      "Erste Zahl: 1\n",
      "Fünfte Zahl: 5\n",
      "Achte Zahl: 21\n"
     ]
    }
   ],
   "source": [
    "myvalues = [1,1,2,3,5,8,13,21]\n",
    "        \n",
    "print('Erste Zahl:',myvalues[0])        \n",
    "print('Fünfte Zahl:',myvalues[4])\n",
    "print('Achte Zahl:',myvalues[7])"
   ]
  },
  {
   "cell_type": "markdown",
   "metadata": {},
   "source": [
    "## Schleifen"
   ]
  },
  {
   "cell_type": "markdown",
   "metadata": {},
   "source": [
    "Falls bestimmte Aktionen mehrfach ausgeführt werden sollen, stehen verschiedene Typen von Schleifen mit `for` und `while` zur Verfügung."
   ]
  },
  {
   "cell_type": "code",
   "execution_count": 15,
   "metadata": {},
   "outputs": [
    {
     "name": "stdout",
     "output_type": "stream",
     "text": [
      "Welches Teilchen habe ich?  Proton\n",
      "Welches Teilchen habe ich?  Neutron\n",
      "Welches Teilchen habe ich?  Elektron\n",
      "Welches Teilchen habe ich?  Positron\n"
     ]
    }
   ],
   "source": [
    "myparticles = ['Proton', 'Neutron', 'Elektron', 'Positron']\n",
    "for x in myparticles:\n",
    "      print('Welches Teilchen habe ich? ',x)"
   ]
  },
  {
   "cell_type": "code",
   "execution_count": 41,
   "metadata": {},
   "outputs": [
    {
     "name": "stdout",
     "output_type": "stream",
     "text": [
      "1\n",
      "2\n",
      "3\n",
      "4\n",
      "5\n",
      "6\n",
      "7\n",
      "8\n",
      "9\n",
      "10\n",
      "11\n",
      "12\n",
      "13\n",
      "14\n",
      "15\n",
      "16\n",
      "17\n",
      "18\n",
      "19\n",
      "20\n",
      "21\n",
      "22\n"
     ]
    }
   ],
   "source": [
    "myval = 1\n",
    "while myval < 23 : \n",
    "    print(myval)\n",
    "    myval = myval +1"
   ]
  },
  {
   "cell_type": "markdown",
   "metadata": {},
   "source": [
    "## Abfragen"
   ]
  },
  {
   "cell_type": "markdown",
   "metadata": {},
   "source": []
  },
  {
   "cell_type": "markdown",
   "metadata": {},
   "source": [
    "## Funktionen"
   ]
  },
  {
   "cell_type": "markdown",
   "metadata": {},
   "source": [
    "Einzelne Code-Zeilen, die man öfters benutzt, können auch in Funktionen abgespalten werden. Diese Funktionen können anschließend mit optionalen Parametern aufgerufen werden."
   ]
  },
  {
   "cell_type": "code",
   "execution_count": 37,
   "metadata": {},
   "outputs": [
    {
     "name": "stdout",
     "output_type": "stream",
     "text": [
      "Fakultaet von 2 ist 2\n",
      "Fakultaet von 12 ist 479001600\n",
      "Fakultaet von 42 ist 1405006117752879898543142606244511569936384000000000\n"
     ]
    },
    {
     "data": {
      "text/plain": [
       "25852016738884976640000"
      ]
     },
     "execution_count": 37,
     "metadata": {},
     "output_type": "execute_result"
    }
   ],
   "source": [
    "#Berechnen der Fakultaet\n",
    "def factorial(n):\n",
    "    if n == 1:\n",
    "        return 1\n",
    "    elif n < 1:\n",
    "        print('Error')    \n",
    "    else:\n",
    "        n = int(n)\n",
    "        return n * factorial(n-1)\n",
    "    \n",
    "print('Fakultaet von 2 ist',factorial(2)    )\n",
    "print('Fakultaet von 12 ist', factorial(12)    )\n",
    "print('Fakultaet von 42 ist',factorial(42)    )"
   ]
  },
  {
   "cell_type": "markdown",
   "metadata": {},
   "source": [
    "# Hilfe zu Python-Befehlen"
   ]
  },
  {
   "cell_type": "markdown",
   "metadata": {},
   "source": [
    "Zu jedem Python-Befehl gibt es eine Hilfe-Funktion: `help()`, wobei in Klammern der Python-Befehl gegeben werden muss, für den die Hilfe benötigt wird. Der Text über diese Funktion ist zwar in englisch, kann aber trotzdem in vielen Fällen schnell weiterhelfen."
   ]
  },
  {
   "cell_type": "code",
   "execution_count": null,
   "metadata": {},
   "outputs": [],
   "source": [
    "help(print)"
   ]
  },
  {
   "cell_type": "markdown",
   "metadata": {},
   "source": [
    "# Beispiele"
   ]
  },
  {
   "cell_type": "code",
   "execution_count": null,
   "metadata": {},
   "outputs": [],
   "source": [
    "for possiblePrime in range(2, 100):\n",
    "    \n",
    "    # Assume number is prime until shown it is not. \n",
    "    isPrime = True\n",
    "    for num in range(2, possiblePrime):\n",
    "        if possiblePrime % num == 0:\n",
    "            isPrime = False\n",
    "            break\n",
    "      \n",
    "    if isPrime:\n",
    "        print(possiblePrime)"
   ]
  },
  {
   "cell_type": "code",
   "execution_count": 3,
   "metadata": {},
   "outputs": [
    {
     "data": {
      "text/plain": [
       "Text(0.5,1.02,'trigonometric functions')"
      ]
     },
     "execution_count": 3,
     "metadata": {},
     "output_type": "execute_result"
    },
    {
     "data": {
      "image/png": "[encoded data removed]",
      "text/plain": [
       "<matplotlib.figure.Figure at 0x7f3bf61617f0>"
      ]
     },
     "metadata": {},
     "output_type": "display_data"
    }
   ],
   "source": [
    "%matplotlib inline\n",
    "import numpy as np\n",
    "import matplotlib\n",
    "import matplotlib.pyplot as plt\n",
    "\n",
    "# font size of labels etc,\n",
    "#matplotlib.rcParams['font.size'] = 18\n",
    "# line width of coordinate axes\n",
    "#matplotlib.rcParams['axes.linewidth'] = 2.0\n",
    "\n",
    "# matplotlib plots numpy-arrays:\n",
    "x = np.linspace(-np.pi, np.pi, 50)\n",
    "c = np.cos(x)\n",
    "s = np.sin(x)\n",
    "\n",
    "# Create a figure of size 8x6 inches, 80 dots per inch\n",
    "plt.figure(figsize=(8, 6))\n",
    "\n",
    "# Plot cosine with a blue continuous line of width 1 (pixels)\n",
    "plt.plot(x, c, color=\"blue\", linestyle=\"-\", linewidth=2.0, label=r\"$\\cos(x)$\")\n",
    "\n",
    "# Plot sine with a green dashed line of width 1 (pixels)\n",
    "plt.plot(x, s, 'g--', linewidth=2.0, label=r\"$\\sin(x)$\")\n",
    "\n",
    "# the labels only appear if you directly call plt.legend()\n",
    "# locate the legend on the upper left part of the plot\n",
    "plt.legend(loc='upper left')\n",
    "\n",
    "# x- and y-labels\n",
    "plt.xlabel(r'$x$')\n",
    "plt.ylabel(r'$y$')\n",
    "\n",
    "# Set x limits (fixed limits)\n",
    "plt.xlim(-np.pi, np.pi)\n",
    "\n",
    "# Set x ticks\n",
    "plt.xticks(np.linspace(-np.pi, np.pi, 9, endpoint=True))\n",
    "\n",
    "# nicer x-ticks with LaTeX labels!\n",
    "#plt.xticks([-np.pi, -np.pi/2, 0, np.pi/2, np.pi],\n",
    "#          [r'$-\\pi$', r'$-\\pi/2$', r'$0$', r'$+\\pi/2$', r'$+\\pi$'])\n",
    "\n",
    "# Set y limits (get limits from data)\n",
    "plt.ylim(c.min(), c.max())\n",
    "\n",
    "# Set y ticks\n",
    "plt.yticks(np.linspace(-1, 1, 5, endpoint=True))\n",
    "\n",
    "# Set a title\n",
    "plt.title(\"trigonometric functions\", y=1.02)"
   ]
  },
  {
   "cell_type": "code",
   "execution_count": 4,
   "metadata": {},
   "outputs": [
    {
     "data": {
      "text/plain": [
       "(array([   2.,    1.,    9.,   19.,   46.,   70.,  100.,  139.,  143.,\n",
       "         138.,  130.,   95.,   61.,   23.,   13.,    8.,    1.,    1.,\n",
       "           0.,    1.]),\n",
       " array([-6.94043349, -6.15754988, -5.37466628, -4.59178268, -3.80889907,\n",
       "        -3.02601547, -2.24313187, -1.46024826, -0.67736466,  0.10551895,\n",
       "         0.88840255,  1.67128615,  2.45416976,  3.23705336,  4.01993696,\n",
       "         4.80282057,  5.58570417,  6.36858778,  7.15147138,  7.93435498,\n",
       "         8.71723859]),\n",
       " <a list of 20 Patch objects>)"
      ]
     },
     "execution_count": 4,
     "metadata": {},
     "output_type": "execute_result"
    },
    {
     "data": {
      "image/png": "[encoded data removed]",
      "text/plain": [
       "<matplotlib.figure.Figure at 0x7f3bf60d9ba8>"
      ]
     },
     "metadata": {},
     "output_type": "display_data"
    }
   ],
   "source": [
    "import numpy as np\n",
    "import numpy.random as nr\n",
    "import matplotlib.pyplot as plt\n",
    "\n",
    "n = nr.normal(scale=2.0, size=1000)\n",
    "\n",
    "# plot histogram with 20 bins whose location\n",
    "# are determined automatically here.\n",
    "plt.hist(n, bins=20)"
   ]
  },
  {
   "cell_type": "code",
   "execution_count": null,
   "metadata": {},
   "outputs": [],
   "source": []
  }
 ],
 "metadata": {
  "kernelspec": {
   "display_name": "Python 3",
   "language": "python",
   "name": "python3"
  },
  "language_info": {
   "codemirror_mode": {
    "name": "ipython",
    "version": 3
   },
   "file_extension": ".py",
   "mimetype": "text/x-python",
   "name": "python",
   "nbconvert_exporter": "python",
   "pygments_lexer": "ipython3",
   "version": "3.6.8"
  }
 },
 "nbformat": 4,
 "nbformat_minor": 2
}
