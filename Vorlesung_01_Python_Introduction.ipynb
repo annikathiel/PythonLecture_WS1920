{
 "cells": [
  {
   "cell_type": "markdown",
   "metadata": {},
   "source": [
    "# Kommentare zur Bedienung dieses Notebooks\n",
    "\n",
    "- Alle Zellen mit Python-Code sind ausführbar. Dazu muss in der Zelle `Strg + Enter` gedrückt werden und die Ausgabe wird unter der Zelle angezeigt.\n",
    "- Die Zellen können beliebig verändert werden. Die Änderungen werden nicht gespeichert, daher startet man jedes Mal mit dem ursprünglichen Notebook\n",
    "- Dieses Notebook ist dazu gedacht, parallel zur Vorlesung die behandelten Themen und Python-Codes testen zu können.\n"
   ]
  },
  {
   "cell_type": "markdown",
   "metadata": {},
   "source": [
    "# Erste Schritte mit Python"
   ]
  },
  {
   "cell_type": "markdown",
   "metadata": {},
   "source": [
    "An dieser Stelle sollen verschiedene Möglichkeiten von Python demonstriert werden. Die genauen Details aller Operationen werden in den nächsten Wochen in den Übungen genauer erklärt und geübt!"
   ]
  },
  {
   "cell_type": "markdown",
   "metadata": {},
   "source": [
    "## Rechenoperationen"
   ]
  },
  {
   "cell_type": "markdown",
   "metadata": {},
   "source": [
    "Mit Python können einfache Berechnungen ausgeführt werden, z.B."
   ]
  },
  {
   "cell_type": "code",
   "execution_count": null,
   "metadata": {},
   "outputs": [],
   "source": [
    "43 + 634"
   ]
  },
  {
   "cell_type": "code",
   "execution_count": null,
   "metadata": {},
   "outputs": [],
   "source": [
    "244 * 342"
   ]
  },
  {
   "cell_type": "markdown",
   "metadata": {},
   "source": [
    "In Python bedeutet `224**5` 224 _hoch_ 5."
   ]
  },
  {
   "cell_type": "code",
   "execution_count": null,
   "metadata": {},
   "outputs": [],
   "source": [
    "224**5"
   ]
  },
  {
   "cell_type": "markdown",
   "metadata": {},
   "source": [
    "Es gelten die üblichen Rechenregeln, für speziellere Rechnungen müssen Klammern gesetzt werden."
   ]
  },
  {
   "cell_type": "code",
   "execution_count": null,
   "metadata": {},
   "outputs": [],
   "source": [
    "(32452-234)**3/244"
   ]
  },
  {
   "cell_type": "markdown",
   "metadata": {},
   "source": [
    "Bitte probieren Sie selbst ein paar Rechnungen aus:"
   ]
  },
  {
   "cell_type": "code",
   "execution_count": null,
   "metadata": {},
   "outputs": [],
   "source": []
  },
  {
   "cell_type": "markdown",
   "metadata": {},
   "source": [
    "## Ausgaben"
   ]
  },
  {
   "cell_type": "markdown",
   "metadata": {},
   "source": [
    "Um Ausgaben zu erzeugen, wird in Python das Schlüsselwort `print()` verwendet, wobei sich innerhalb der Klammern der Text befindet, welcher ausgegeben werden soll. Handelt es sich dabei um einfachen Text, muss er in Hochkommata `''` eingefasst sein. Variablen oder andere Ausgaben benötigen keine Hochkommata."
   ]
  },
  {
   "cell_type": "code",
   "execution_count": null,
   "metadata": {},
   "outputs": [],
   "source": [
    "print('Hello World')"
   ]
  },
  {
   "cell_type": "code",
   "execution_count": null,
   "metadata": {},
   "outputs": [],
   "source": [
    "print(342+352)"
   ]
  },
  {
   "cell_type": "code",
   "execution_count": null,
   "metadata": {},
   "outputs": [],
   "source": [
    "print('342+352')"
   ]
  },
  {
   "cell_type": "markdown",
   "metadata": {},
   "source": [
    "Bitte probieren Sie selbst ein paar Ausgaben aus:"
   ]
  },
  {
   "cell_type": "code",
   "execution_count": null,
   "metadata": {},
   "outputs": [],
   "source": []
  },
  {
   "cell_type": "markdown",
   "metadata": {},
   "source": [
    "## Leerzeichen und Tabs"
   ]
  },
  {
   "cell_type": "markdown",
   "metadata": {},
   "source": [
    "Leerzeichen und Tabs haben in Python eine besondere Bedeutung. Sie werden benutzt um Schleifen, die in den nächsten Wochen näher erläutert werden, zu kennzeichnen. Daher verwenden Sie keine Leerzeichen oder Tabs am Anfang eine Python Zeile, sonst wird es zu Fehlern kommen:"
   ]
  },
  {
   "cell_type": "code",
   "execution_count": null,
   "metadata": {},
   "outputs": [],
   "source": [
    "print(\"hallo\")\n",
    "  232 + 4324"
   ]
  },
  {
   "cell_type": "markdown",
   "metadata": {},
   "source": [
    "Entfernen Sie im obigen Python-Code die Leerzeichen und beobachten Sie, was passiert."
   ]
  },
  {
   "cell_type": "markdown",
   "metadata": {},
   "source": [
    "Bei Schleifen wiederum können Leerzeichen notwenig sein:"
   ]
  },
  {
   "cell_type": "code",
   "execution_count": null,
   "metadata": {},
   "outputs": [],
   "source": [
    "for mynumber in range(0, 10):\n",
    "print(mynumber)"
   ]
  },
  {
   "cell_type": "markdown",
   "metadata": {},
   "source": [
    "Rücken Sie die zweite Zeile im obenstehenden Code mit einem *'TAB'* ein und schauen Sie, was passiert."
   ]
  },
  {
   "cell_type": "markdown",
   "metadata": {},
   "source": [
    "## Kommentare"
   ]
  },
  {
   "cell_type": "markdown",
   "metadata": {},
   "source": [
    "Der selbst geschriebene Code sollte im Idealfall kommentiert werden, damit man nachher noch nachvollziehen kann, was man wieso programmiert hat. Solche Zeilen beginnen mit `#` und werden bei der Ausführung ignoriert."
   ]
  },
  {
   "cell_type": "code",
   "execution_count": null,
   "metadata": {},
   "outputs": [],
   "source": [
    "#In der naechsten Zeile gebe ich 'Hello World' aus.. Oder so\n",
    "print('Hello World')\n",
    "#Jetzt bin ich fertig"
   ]
  },
  {
   "cell_type": "markdown",
   "metadata": {},
   "source": [
    "## Variablen"
   ]
  },
  {
   "cell_type": "markdown",
   "metadata": {},
   "source": [
    "Variablen werden üblicherweise beim Programmieren benutzt, um Ergebnisse, Zeichen oder Werte zwischenzuspeichern. Die Variablen können dann zu einem späteren Zeitpunkt im Programm wieder benutzt werden."
   ]
  },
  {
   "cell_type": "code",
   "execution_count": null,
   "metadata": {},
   "outputs": [],
   "source": [
    "value1 = 348\n",
    "value2 = 'Hallo, Welt'\n",
    "value3 = 3.14159265\n",
    "\n",
    "print(value1, value2, value3)"
   ]
  },
  {
   "cell_type": "code",
   "execution_count": null,
   "metadata": {},
   "outputs": [],
   "source": [
    "newval = value1 + value3\n",
    "print(newval)"
   ]
  },
  {
   "cell_type": "markdown",
   "metadata": {},
   "source": [
    "## Arrays"
   ]
  },
  {
   "cell_type": "markdown",
   "metadata": {},
   "source": [
    "Bei Arrays handelt es sich um Listen von Variablen. Diese werden in der Regel verwendet, wenn man mehrere Ergebnisse oder Zeichen speichern und bearbeiten möchte."
   ]
  },
  {
   "cell_type": "code",
   "execution_count": null,
   "metadata": {},
   "outputs": [],
   "source": [
    "myvalues = [1,1,2,3,5,8,13,21]\n",
    "        \n",
    "print('Erste Zahl:',myvalues[0])        \n",
    "print('Fünfte Zahl:',myvalues[4])\n",
    "print('Achte Zahl:',myvalues[7])"
   ]
  },
  {
   "cell_type": "markdown",
   "metadata": {},
   "source": [
    "## Schleifen"
   ]
  },
  {
   "cell_type": "markdown",
   "metadata": {},
   "source": [
    "Falls bestimmte Aktionen mehrfach ausgeführt werden sollen, stehen verschiedene Typen von Schleifen mit `for` und `while` zur Verfügung."
   ]
  },
  {
   "cell_type": "code",
   "execution_count": null,
   "metadata": {},
   "outputs": [],
   "source": [
    "myparticles = ['Proton', 'Neutron', 'Elektron', 'Positron']\n",
    "for x in myparticles:\n",
    "      print('Welches Teilchen habe ich? ',x)"
   ]
  },
  {
   "cell_type": "code",
   "execution_count": null,
   "metadata": {},
   "outputs": [],
   "source": [
    "myval = 1\n",
    "while myval < 23 : \n",
    "    print(myval)\n",
    "    myval = myval +1"
   ]
  },
  {
   "cell_type": "markdown",
   "metadata": {},
   "source": [
    "## Bedingungen"
   ]
  },
  {
   "cell_type": "markdown",
   "metadata": {},
   "source": [
    "Um zu überprüfen, ob eine Aussage wahr oder falsch ist, dienen `if`-Befingungen. Das kann beim Programmieren an vielen Stellen verwendet werden, um den Durchlauf eines Programms zu steuern."
   ]
  },
  {
   "cell_type": "code",
   "execution_count": null,
   "metadata": {},
   "outputs": [],
   "source": [
    "wert = 2\n",
    "if wert < 20:\n",
    "    print('Wert ist kleiner als 20.')\n",
    "elif wert < 50:\n",
    "    print('Wert ist zwischen 20 und 50.')\n",
    "else : \n",
    "    print('Wert ist groesser als 50.')"
   ]
  },
  {
   "cell_type": "markdown",
   "metadata": {},
   "source": [
    "## Funktionen"
   ]
  },
  {
   "cell_type": "markdown",
   "metadata": {},
   "source": [
    "Einzelne Code-Zeilen, die man öfters benutzt, können auch in Funktionen abgespalten werden. Diese Funktionen können anschließend mit optionalen Parametern aufgerufen werden."
   ]
  },
  {
   "cell_type": "code",
   "execution_count": null,
   "metadata": {},
   "outputs": [],
   "source": [
    "#Berechnen der Fakultaet\n",
    "def factorial(n):\n",
    "    if n == 1:\n",
    "        return 1\n",
    "    elif n < 1:\n",
    "        print('Error')    \n",
    "    else:\n",
    "        n = int(n)\n",
    "        return n * factorial(n-1)\n",
    "    \n",
    "print('Fakultaet von 2 ist',factorial(2)    )\n",
    "print('Fakultaet von 12 ist', factorial(12)    )\n",
    "print('Fakultaet von 42 ist',factorial(42)    )"
   ]
  },
  {
   "cell_type": "markdown",
   "metadata": {},
   "source": [
    "# Hilfe zu Python-Befehlen"
   ]
  },
  {
   "cell_type": "markdown",
   "metadata": {},
   "source": [
    "Zu jedem Python-Befehl gibt es eine Hilfe-Funktion: `help()`, wobei in Klammern der Python-Befehl gegeben werden muss, für den die Hilfe benötigt wird. Der Text über diese Funktion ist zwar in englisch, kann aber trotzdem in vielen Fällen schnell weiterhelfen."
   ]
  },
  {
   "cell_type": "code",
   "execution_count": null,
   "metadata": {},
   "outputs": [],
   "source": [
    "help(print)"
   ]
  },
  {
   "cell_type": "markdown",
   "metadata": {},
   "source": [
    "# Beispiele"
   ]
  },
  {
   "cell_type": "code",
   "execution_count": null,
   "metadata": {},
   "outputs": [],
   "source": [
    "for possiblePrime in range(2, 100):\n",
    "    \n",
    "    # Assume number is prime until shown it is not. \n",
    "    isPrime = True\n",
    "    for num in range(2, possiblePrime):\n",
    "        if possiblePrime % num == 0:\n",
    "            isPrime = False\n",
    "            break\n",
    "      \n",
    "    if isPrime:\n",
    "        print(possiblePrime)"
   ]
  },
  {
   "cell_type": "code",
   "execution_count": null,
   "metadata": {},
   "outputs": [],
   "source": [
    "%matplotlib inline\n",
    "import numpy as np\n",
    "import matplotlib\n",
    "import matplotlib.pyplot as plt\n",
    "\n",
    "# font size of labels etc,\n",
    "#matplotlib.rcParams['font.size'] = 18\n",
    "# line width of coordinate axes\n",
    "#matplotlib.rcParams['axes.linewidth'] = 2.0\n",
    "\n",
    "# matplotlib plots numpy-arrays:\n",
    "x = np.linspace(-np.pi, np.pi, 50)\n",
    "c = np.cos(x)\n",
    "s = np.sin(x)\n",
    "\n",
    "# Create a figure of size 8x6 inches, 80 dots per inch\n",
    "plt.figure(figsize=(8, 6))\n",
    "\n",
    "# Plot cosine with a blue continuous line of width 1 (pixels)\n",
    "plt.plot(x, c, color=\"blue\", linestyle=\"-\", linewidth=2.0, label=r\"$\\cos(x)$\")\n",
    "\n",
    "# Plot sine with a green dashed line of width 1 (pixels)\n",
    "plt.plot(x, s, 'g--', linewidth=2.0, label=r\"$\\sin(x)$\")\n",
    "\n",
    "# the labels only appear if you directly call plt.legend()\n",
    "# locate the legend on the upper left part of the plot\n",
    "plt.legend(loc='upper left')\n",
    "\n",
    "# x- and y-labels\n",
    "plt.xlabel(r'$x$')\n",
    "plt.ylabel(r'$y$')\n",
    "\n",
    "# Set x limits (fixed limits)\n",
    "plt.xlim(-np.pi, np.pi)\n",
    "\n",
    "# Set x ticks\n",
    "plt.xticks(np.linspace(-np.pi, np.pi, 9, endpoint=True))\n",
    "\n",
    "# nicer x-ticks with LaTeX labels!\n",
    "#plt.xticks([-np.pi, -np.pi/2, 0, np.pi/2, np.pi],\n",
    "#          [r'$-\\pi$', r'$-\\pi/2$', r'$0$', r'$+\\pi/2$', r'$+\\pi$'])\n",
    "\n",
    "# Set y limits (get limits from data)\n",
    "plt.ylim(c.min(), c.max())\n",
    "\n",
    "# Set y ticks\n",
    "plt.yticks(np.linspace(-1, 1, 5, endpoint=True))\n",
    "\n",
    "# Set a title\n",
    "plt.title(\"trigonometric functions\", y=1.02)"
   ]
  },
  {
   "cell_type": "code",
   "execution_count": null,
   "metadata": {},
   "outputs": [],
   "source": [
    "import numpy as np\n",
    "import numpy.random as nr\n",
    "import matplotlib.pyplot as plt\n",
    "\n",
    "n = nr.normal(scale=2.0, size=1000)\n",
    "\n",
    "# plot histogram with 20 bins whose location\n",
    "# are determined automatically here.\n",
    "plt.hist(n, bins=20)"
   ]
  },
  {
   "cell_type": "code",
   "execution_count": null,
   "metadata": {},
   "outputs": [],
   "source": []
  }
 ],
 "metadata": {
  "kernelspec": {
   "display_name": "Python 3",
   "language": "python",
   "name": "python3"
  },
  "language_info": {
   "codemirror_mode": {
    "name": "ipython",
    "version": 3
   },
   "file_extension": ".py",
   "mimetype": "text/x-python",
   "name": "python",
   "nbconvert_exporter": "python",
   "pygments_lexer": "ipython3",
   "version": "3.6.8"
  }
 },
 "nbformat": 4,
 "nbformat_minor": 2
}
